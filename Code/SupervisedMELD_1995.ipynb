{
 "cells": [
  {
   "cell_type": "code",
   "execution_count": 1,
   "metadata": {
    "collapsed": false
   },
   "outputs": [
    {
     "name": "stderr",
     "output_type": "stream",
     "text": [
      "/Applications/anaconda/lib/python3.5/site-packages/sklearn/cross_validation.py:44: DeprecationWarning: This module was deprecated in version 0.18 in favor of the model_selection module into which all the refactored classes and functions are moved. Also note that the interface of the new CV iterators are different from that of this module. This module will be removed in 0.20.\n",
      "  \"This module will be removed in 0.20.\", DeprecationWarning)\n"
     ]
    }
   ],
   "source": [
    "%matplotlib inline\n",
    "from sklearn.cross_validation import KFold\n",
    "from sklearn.metrics import roc_curve, roc_auc_score"
   ]
  },
  {
   "cell_type": "code",
   "execution_count": 6,
   "metadata": {
    "collapsed": false
   },
   "outputs": [
    {
     "data": {
      "text/plain": [
       "array(['rate', 'people', 'arrival', 'goods', 'chainsaw', 'planter',\n",
       "       'Hhedu', 'Hhwedu', 'knowledge', 'dirtwater', 'bednet', 'DDT',\n",
       "       'insecticide', 'tea', 'region', 'pasture', 'cleared', 'rooms',\n",
       "       'wall', 'roof', 'sealing', 'getwater', 'bath', 'topography',\n",
       "       'how got', 'whysold', 'dforest', 'driver', 'dwater', 'dwell',\n",
       "       'loan-agr', 'loan-part', 'loan-eq', 'community', 'livedrural+1y',\n",
       "       'chickenpork', 'dcurral', 'arrivRO', 'rice', 'corn', 'bean',\n",
       "       'cassava', 'coffee', 'cocoa', 'banana', 'rubber', 'guarana', 'nut',\n",
       "       'pepper', 'Dist.neighb', '900MFOREST', '1000mRiver', 'Unico dono',\n",
       "       'roadquality', 'dist-health-Km', 'dist-hosp', 'v212', 'v403',\n",
       "       'v720', 'v601', 'v606c', 'v608c'], dtype=object)"
      ]
     },
     "execution_count": 6,
     "metadata": {},
     "output_type": "execute_result"
    }
   ],
   "source": [
    "data95=pd.read_csv('/Users/wsswemily/Desktop/GOM/Amazon/machadinho_data_1995.csv')\n",
    "data95=data95.iloc[:1108,6:68]\n",
    "names=data95.columns.values\n",
    "names"
   ]
  },
  {
   "cell_type": "code",
   "execution_count": 3,
   "metadata": {
    "collapsed": false
   },
   "outputs": [
    {
     "data": {
      "text/plain": [
       "(array([ 511.,  248.,  165.,   60.,   50.,   31.,   13.,   13.,    7.,   10.]),\n",
       " array([-2.30258509, -2.06279557, -1.82300604, -1.58321651, -1.34342698,\n",
       "        -1.10363746, -0.86384793, -0.6240584 , -0.38426887, -0.14447935,\n",
       "         0.09531018]),\n",
       " <a list of 10 Patch objects>)"
      ]
     },
     "execution_count": 3,
     "metadata": {},
     "output_type": "execute_result"
    },
    {
     "data": {
      "image/png": "[encoded data removed]",
      "text/plain": [
       "<matplotlib.figure.Figure at 0x11716a748>"
      ]
     },
     "metadata": {},
     "output_type": "display_data"
    }
   ],
   "source": [
    "data95=np.array(np.transpose(data95))\n",
    "data95[0]=np.log(data95[0]+0.1)\n",
    "plt.hist(data95[0])"
   ]
  },
  {
   "cell_type": "code",
   "execution_count": 4,
   "metadata": {
    "collapsed": true
   },
   "outputs": [],
   "source": [
    "#turn rate into 0 or 1\n",
    "for i in range(data95.shape[1]):\n",
    "    if data95[0][i]<-2.06279557:\n",
    "        data95[0][i]=0\n",
    "    else:\n",
    "        data95[0][i]=1"
   ]
  },
  {
   "cell_type": "code",
   "execution_count": 12,
   "metadata": {
    "collapsed": false
   },
   "outputs": [
    {
     "data": {
      "text/plain": [
       "array(['rate', 'people', 'arrival', 'goods', 'chainsaw', 'planter',\n",
       "       'Hhedu', 'Hhwedu', 'knowledge', 'dirtwater', 'bednet', 'DDT',\n",
       "       'insecticide', 'tea', 'region', 'pasture', 'cleared', 'rooms',\n",
       "       'wall', 'roof', 'sealing', 'getwater', 'bath', 'topography',\n",
       "       'how got', 'whysold', 'dforest', 'driver', 'dwater', 'dwell',\n",
       "       'loan-agr', 'loan-part', 'loan-eq', 'community', 'livedrural+1y',\n",
       "       'chickenpork', 'dcurral', 'arrivRO', 'rice', 'corn', 'bean',\n",
       "       'cassava', 'coffee', 'cocoa', 'banana', 'rubber', 'guarana', 'nut',\n",
       "       'pepper', 'Dist.neighb', '900MFOREST', '1000mRiver', 'Unico dono',\n",
       "       'roadquality', 'dist-health-Km', 'dist-hosp', 'v212', 'v403',\n",
       "       'v720', 'v601', 'v606c', 'v608c'], dtype=object)"
      ]
     },
     "execution_count": 12,
     "metadata": {},
     "output_type": "execute_result"
    }
   ],
   "source": [
    "names"
   ]
  },
  {
   "cell_type": "code",
   "execution_count": 3,
   "metadata": {
    "collapsed": true
   },
   "outputs": [],
   "source": [
    "envir=[0,15,16,17,18,19,20,21,22,23,26,27,28,29,36,38,39,40,41,42,43,44,45,46,47,48,49,50,\n",
    "      51,53,54,55]\n",
    "behav=[0,1,2,3,4,5,6,7,8,9,10,11,12,13,14,24,25,30,31,32,33,34,35,37,52,56,57,58,59,60,61]"
   ]
  },
  {
   "cell_type": "code",
   "execution_count": 4,
   "metadata": {
    "collapsed": false
   },
   "outputs": [
    {
     "data": {
      "text/plain": [
       "(62,)"
      ]
     },
     "execution_count": 4,
     "metadata": {},
     "output_type": "execute_result"
    }
   ],
   "source": [
    "names.shape"
   ]
  },
  {
   "cell_type": "code",
   "execution_count": 8,
   "metadata": {
    "collapsed": true
   },
   "outputs": [],
   "source": [
    "def MELD_Backward_features(data, Numfolds, features):\n",
    "    \"\"\"This function performs supervised MELD and backward elimination algorithm\n",
    "    Parameters:\n",
    "        Input: a dataframe and number of folds\n",
    "        output: select maximum AUC and corresponding features \n",
    "        for every specific number of features  \n",
    "    \"\"\"\n",
    "    #divide data into kf cross validation folds\n",
    "    kf=KFold(data.shape[1],Numfolds,shuffle=False,random_state=111)\n",
    "    \n",
    "    def profile_class(data,phi):\n",
    "        \"\"\"This function calculates the GoM scores for each individual\n",
    "        Parameters:\n",
    "        Input: data and phi calculate from MELD\n",
    "           Output: GoM score\n",
    "        \"\"\"\n",
    "        score=np.zeros([data.shape[1],2])\n",
    "        profile=np.zeros([int(data.shape[0]),int(data.shape[1])])\n",
    "        for j in range(data.shape[1]):\n",
    "            for i in range(data.shape[0]):\n",
    "                yij=int(data[i,j])\n",
    "                #calculate M_ij\n",
    "                profile[i,j]=np.argmax(phi[i][:,yij])\n",
    "                if profile[i,j]==0:\n",
    "                    score[j,0]=score[j,0]+1\n",
    "                else:\n",
    "                    score[j,1]=score[j,1]+1\n",
    "            score[j,:]=(score[j,:]+0.1)/(phi.shape[0]+0.2)\n",
    "        return score\n",
    "    \n",
    "    #create a list of features\n",
    "    vec_list=[]\n",
    "    for j in range(len(features)-1):\n",
    "        integers=features[:]\n",
    "        del integers[j+1]\n",
    "        vec_list.append(integers)\n",
    "    \n",
    "    auc_list_outer=[]\n",
    "    whole_gom_list=[]\n",
    "    for j in range(len(vec_list)):\n",
    "        auc_list=[]\n",
    "        gom_list=[]\n",
    "        vec=vec_list[j]\n",
    "        for i in range(Numfolds):\n",
    "            train=data[:,list(kf)[i][0]]\n",
    "            test=data[:,list(kf)[i][1]]\n",
    "            import MELD_95 as MELD\n",
    "            k=2\n",
    "            S=100\n",
    "            Y = train\n",
    "            (p,n) = Y.shape\n",
    "            Yt = np.array([0]*p)\n",
    "            Yt[0]=0\n",
    "            # create an object of MELD class\n",
    "            myMELD = MELD.MELD(Y,Yt,k,vec)\n",
    "            # calculate second moment matrices\n",
    "            myMELD.calM2()\n",
    "            myMELD.calM2_bar()\n",
    "            # ------------- first stage\n",
    "            # initialize weight matrices to identity\n",
    "            myMELD.initializeWeight_M2()\n",
    "            # perform first stage estimation\n",
    "            Result1 = myMELD.estimatePhiGrad_M2(S)\n",
    "            # extract phi from the result\n",
    "            phi1=Result1['PHI'][Result1['iter']]\n",
    "            # extract selected features in the test fold\n",
    "            test=test[vec]\n",
    "            # calculate GoM score\n",
    "            gscore=profile_class(test[1:],phi1[1:])\n",
    "            # calculate risk\n",
    "            risk=gscore[:,None]*np.transpose(phi1[0])\n",
    "            risk=np.sum(risk[:,1,:],axis=1)\n",
    "            gom_list.append(gscore[:,1])\n",
    "            # replace 0 with label \"-1\"\n",
    "            np.place(test[0],test[0]==0,[-1])\n",
    "            # calculate AUC\n",
    "            auc = roc_auc_score(test[0],risk)\n",
    "            auc_list.append(auc)\n",
    "        #calculate the mean AUC across kf folds\n",
    "        auc_new=np.mean(auc_list)\n",
    "        auc_list_outer.append(auc_new)\n",
    "        whole_gom_list.append(list(np.concatenate(gom_list)))\n",
    "        \n",
    "    auc_all=[]\n",
    "    vec_all=[]\n",
    "    gom_all=[]\n",
    "    while len(vec_list)>2:\n",
    "        vec_list_2=vec_list[np.argmax(auc_list_outer).astype(int)] \n",
    "        gom_list_2=whole_gom_list[np.argmax(auc_list_outer).astype(int)]\n",
    "        vec_all.append(vec_list_2)\n",
    "        gom_all.append(gom_list_2)\n",
    "        vec_list=[]\n",
    "        whole_gom_list=[]\n",
    "        #eliminate one feature at a time\n",
    "        for k in range(len(vec_list_2)-1):\n",
    "            integers=vec_list_2[:]\n",
    "            del integers[k+1]\n",
    "            vec_list.append(integers)\n",
    "\n",
    "        auc_list_outer=[] \n",
    "       \n",
    "        for j in range(len(vec_list)):\n",
    "            auc_list=[]\n",
    "            gom_list=[]\n",
    "            vec=vec_list[j]\n",
    "\n",
    "            for i in range(10):\n",
    "            \n",
    "                train=data[:,list(kf)[i][0]]\n",
    "    \n",
    "                test=data[:,list(kf)[i][1]]\n",
    "        \n",
    "                import MELD_95 as MELD\n",
    "                k=2\n",
    "                S=100\n",
    "\n",
    "                Y = train\n",
    "                (p,n) = Y.shape\n",
    "\n",
    "                Yt = np.array([0]*p)\n",
    "                Yt[0]=0\n",
    "                # create an object of MELD class\n",
    "                myMELD = MELD.MELD(Y,Yt,k,vec)\n",
    "\n",
    "                # calculate second moment matrices\n",
    "                myMELD.calM2()\n",
    "                myMELD.calM2_bar()\n",
    "\n",
    "                # ------------- first stage\n",
    "                # initialize weight matrices to identity\n",
    "                myMELD.initializeWeight_M2()\n",
    "\n",
    "                # perform first stage estimation\n",
    "                Result1 = myMELD.estimatePhiGrad_M2(S)\n",
    "                # extract phi from the result\n",
    "                phi1=Result1['PHI'][Result1['iter']]\n",
    "                # extract selected features from test fold\n",
    "                test=test[vec]\n",
    "                # calculate GoM score\n",
    "                gscore=profile_class(test[1:],phi1[1:])\n",
    "                # calculate risk\n",
    "                risk=gscore[:,None]*np.transpose(phi1[0])\n",
    "                risk=np.sum(risk[:,1,:],axis=1)\n",
    "                gom_list.append(gscore[:,1])\n",
    "                # replace 0 with label \"-1\"\n",
    "                np.place(test[0],test[0]==0,[-1])\n",
    "                # calculate AUC\n",
    "                auc = roc_auc_score(test[0],risk)\n",
    "                auc_list.append(auc)\n",
    "            # calculate average AUC across kf folds\n",
    "            auc_new=np.mean(auc_list)     \n",
    "            auc_list_outer.append(auc_new)\n",
    "            whole_gom_list.append(list(np.concatenate(gom_list)))\n",
    "              \n",
    "        \n",
    "        # selected the maximum AUC from a list of AUC's\n",
    "        auc_new_new=max(auc_list_outer)\n",
    "    \n",
    "        auc_all.append(auc_new_new)\n",
    "        \n",
    "        auc=np.max(auc_all)\n",
    "        \n",
    "        feature_selected=vec_all[np.argmax(auc_all)]\n",
    "        \n",
    "        gom=gom_all[np.argmax(auc_all)]\n",
    "    \n",
    "    return auc, feature_selected, gom\n",
    "\n",
    "\n",
    "\n",
    "\n"
   ]
  },
  {
   "cell_type": "code",
   "execution_count": 23,
   "metadata": {
    "collapsed": false
   },
   "outputs": [
    {
     "name": "stderr",
     "output_type": "stream",
     "text": [
      "/Users/wsswemily/Desktop/SMELD/MELD_95.py:72: VisibleDeprecationWarning: using a non-integer number instead of an integer will result in an error in the future\n",
      "  Y_j = np.zeros((n,self.d[j]))\n",
      "/Users/wsswemily/Desktop/SMELD/MELD_95.py:74: VisibleDeprecationWarning: using a non-integer number instead of an integer will result in an error in the future\n",
      "  Y_j[i,Y[j,i]] = 1\n",
      "/Users/wsswemily/Desktop/SMELD/MELD_95.py:76: VisibleDeprecationWarning: using a non-integer number instead of an integer will result in an error in the future\n",
      "  self.Phi[j] = np.zeros((k,self.d[j]))\n",
      "/Users/wsswemily/Desktop/SMELD/MELD_95.py:77: VisibleDeprecationWarning: using a non-integer number instead of an integer will result in an error in the future\n",
      "  self.X[j] = np.zeros((k,self.d[j]))\n",
      "/Users/wsswemily/Desktop/SMELD/MELD_95.py:84: VisibleDeprecationWarning: using a non-integer number instead of an integer will result in an error in the future\n",
      "  self.Phi[j][h,:] = np.random.dirichlet([100.0]*self.d[j])\n",
      "/Users/wsswemily/Desktop/SMELD/MELD_95.py:97: VisibleDeprecationWarning: using a non-integer number instead of an integer will result in an error in the future\n",
      "  M1_j = np.zeros(self.d[j])\n",
      "/Applications/anaconda/lib/python3.5/site-packages/numpy/core/numeric.py:190: VisibleDeprecationWarning: using a non-integer number instead of an integer will result in an error in the future\n",
      "  a = empty(shape, dtype, order)\n",
      "/Users/wsswemily/Desktop/SMELD/MELD_95.py:338: VisibleDeprecationWarning: using a non-integer number instead of an integer will result in an error in the future\n",
      "  a2_jh = np.zeros(d[j])\n",
      "/Users/wsswemily/Desktop/SMELD/MELD_95.py:339: VisibleDeprecationWarning: using a non-integer number instead of an integer will result in an error in the future\n",
      "  b2_jh = np.zeros(d[j])\n",
      "/Users/wsswemily/Desktop/SMELD/MELD_95.py:382: VisibleDeprecationWarning: using a non-integer number instead of an integer will result in an error in the future\n",
      "  Phi_j = np.zeros((k,self.d[j]))\n"
     ]
    }
   ],
   "source": [
    "out_envir=MELD_Backward_features(data95, 10, envir)"
   ]
  },
  {
   "cell_type": "code",
   "execution_count": 24,
   "metadata": {
    "collapsed": false
   },
   "outputs": [
    {
     "name": "stderr",
     "output_type": "stream",
     "text": [
      "/Users/wsswemily/Desktop/SMELD/MELD_95.py:72: VisibleDeprecationWarning: using a non-integer number instead of an integer will result in an error in the future\n",
      "  Y_j = np.zeros((n,self.d[j]))\n",
      "/Users/wsswemily/Desktop/SMELD/MELD_95.py:74: VisibleDeprecationWarning: using a non-integer number instead of an integer will result in an error in the future\n",
      "  Y_j[i,Y[j,i]] = 1\n",
      "/Users/wsswemily/Desktop/SMELD/MELD_95.py:76: VisibleDeprecationWarning: using a non-integer number instead of an integer will result in an error in the future\n",
      "  self.Phi[j] = np.zeros((k,self.d[j]))\n",
      "/Users/wsswemily/Desktop/SMELD/MELD_95.py:77: VisibleDeprecationWarning: using a non-integer number instead of an integer will result in an error in the future\n",
      "  self.X[j] = np.zeros((k,self.d[j]))\n",
      "/Users/wsswemily/Desktop/SMELD/MELD_95.py:84: VisibleDeprecationWarning: using a non-integer number instead of an integer will result in an error in the future\n",
      "  self.Phi[j][h,:] = np.random.dirichlet([100.0]*self.d[j])\n",
      "/Users/wsswemily/Desktop/SMELD/MELD_95.py:97: VisibleDeprecationWarning: using a non-integer number instead of an integer will result in an error in the future\n",
      "  M1_j = np.zeros(self.d[j])\n",
      "/Applications/anaconda/lib/python3.5/site-packages/numpy/core/numeric.py:190: VisibleDeprecationWarning: using a non-integer number instead of an integer will result in an error in the future\n",
      "  a = empty(shape, dtype, order)\n",
      "/Users/wsswemily/Desktop/SMELD/MELD_95.py:338: VisibleDeprecationWarning: using a non-integer number instead of an integer will result in an error in the future\n",
      "  a2_jh = np.zeros(d[j])\n",
      "/Users/wsswemily/Desktop/SMELD/MELD_95.py:339: VisibleDeprecationWarning: using a non-integer number instead of an integer will result in an error in the future\n",
      "  b2_jh = np.zeros(d[j])\n",
      "/Users/wsswemily/Desktop/SMELD/MELD_95.py:382: VisibleDeprecationWarning: using a non-integer number instead of an integer will result in an error in the future\n",
      "  Phi_j = np.zeros((k,self.d[j]))\n"
     ]
    }
   ],
   "source": [
    "out_behav=MELD_Backward_features(data95, 10, behav)"
   ]
  },
  {
   "cell_type": "code",
   "execution_count": 25,
   "metadata": {
    "collapsed": false
   },
   "outputs": [
    {
     "data": {
      "text/plain": [
       "array(['rate', 'cleared', 'rooms', 'roof', 'sealing', 'bath', 'dforest',\n",
       "       'driver', 'dcurral', 'rice', 'cocoa', 'banana', 'rubber', 'pepper',\n",
       "       'dist-hosp'], dtype=object)"
      ]
     },
     "execution_count": 25,
     "metadata": {},
     "output_type": "execute_result"
    }
   ],
   "source": [
    "names[out_envir[1]]\n"
   ]
  },
  {
   "cell_type": "code",
   "execution_count": 26,
   "metadata": {
    "collapsed": false
   },
   "outputs": [
    {
     "data": {
      "text/plain": [
       "0.62933881548947002"
      ]
     },
     "execution_count": 26,
     "metadata": {},
     "output_type": "execute_result"
    }
   ],
   "source": [
    "out_envir[0]"
   ]
  },
  {
   "cell_type": "code",
   "execution_count": 27,
   "metadata": {
    "collapsed": true
   },
   "outputs": [],
   "source": [
    "gom_envir=out_envir[2]"
   ]
  },
  {
   "cell_type": "code",
   "execution_count": 28,
   "metadata": {
    "collapsed": false
   },
   "outputs": [
    {
     "data": {
      "text/plain": [
       "array(['rate', 'chainsaw', 'Hhwedu', 'bednet', 'how got', 'loan-part',\n",
       "       'arrivRO', 'v212', 'v403'], dtype=object)"
      ]
     },
     "execution_count": 28,
     "metadata": {},
     "output_type": "execute_result"
    }
   ],
   "source": [
    "names[out_behav[1]]"
   ]
  },
  {
   "cell_type": "code",
   "execution_count": 29,
   "metadata": {
    "collapsed": false
   },
   "outputs": [
    {
     "data": {
      "text/plain": [
       "0.62835913448114611"
      ]
     },
     "execution_count": 29,
     "metadata": {},
     "output_type": "execute_result"
    }
   ],
   "source": [
    "out_behav[0]"
   ]
  },
  {
   "cell_type": "code",
   "execution_count": 30,
   "metadata": {
    "collapsed": true
   },
   "outputs": [],
   "source": [
    "gom_behav=out_behav[2]"
   ]
  },
  {
   "cell_type": "code",
   "execution_count": 43,
   "metadata": {
    "collapsed": false
   },
   "outputs": [],
   "source": [
    "def plot_GOM(gom_envir, gom_behav):\n",
    "    fig = plt.figure(figsize=[8,5])\n",
    "    #Generate a list of unique points\n",
    "    points=list(set(zip(gom_behav,gom_envir))) \n",
    "    #Generate a list of point counts\n",
    "    count=[len([x for x,y in zip(gom_behav,gom_envir) if x==p[0] and y==p[1]]) for p in points]\n",
    "    #Now for the plotting:\n",
    "    plot_x=[i[0] for i in points]\n",
    "    plot_y=[i[1] for i in points]\n",
    "    count=np.array(count)\n",
    "    plt.scatter(plot_x,plot_y,c=count,s=100*count**0.5,cmap='Spectral_r')\n",
    "    plt.xlabel('Behavioral GoM Score')\n",
    "    plt.ylabel('Environmental GoM Score')\n",
    "    cbar=plt.colorbar()\n",
    "    cbar.set_label('Counts')\n",
    "    fig.suptitle('GoM Scores for the Machadinho data in 1995',fontsize=16)\n",
    "    plt.show()\n",
    "    fig.savefig('GOM95.pdf')"
   ]
  },
  {
   "cell_type": "code",
   "execution_count": 44,
   "metadata": {
    "collapsed": false
   },
   "outputs": [
    {
     "data": {
      "image/png": "[encoded data removed]",
      "text/plain": [
       "<matplotlib.figure.Figure at 0x11aca76a0>"
      ]
     },
     "metadata": {},
     "output_type": "display_data"
    }
   ],
   "source": [
    "plot_GOM(gom_envir,gom_behav)"
   ]
  },
  {
   "cell_type": "code",
   "execution_count": 7,
   "metadata": {
    "collapsed": false
   },
   "outputs": [
    {
     "data": {
      "text/plain": [
       "(array([ 511.,  248.,  165.,   60.,   50.,   31.,   13.,   13.,    7.,   10.]),\n",
       " array([-2.30258509, -2.06279557, -1.82300604, -1.58321651, -1.34342698,\n",
       "        -1.10363746, -0.86384793, -0.6240584 , -0.38426887, -0.14447935,\n",
       "         0.09531018]),\n",
       " <a list of 10 Patch objects>)"
      ]
     },
     "execution_count": 7,
     "metadata": {},
     "output_type": "execute_result"
    },
    {
     "data": {
      "image/png": "[encoded data removed]",
      "text/plain": [
       "<matplotlib.figure.Figure at 0x116f58c88>"
      ]
     },
     "metadata": {},
     "output_type": "display_data"
    }
   ],
   "source": [
    "for i in range(1,data95.shape[1]):\n",
    "    data95.iloc[:,i]=data95.iloc[:,i].astype('category')\n",
    "cat_columns = data95.select_dtypes(['category']).columns\n",
    "data95[cat_columns] = data95[cat_columns].apply(lambda x: x.cat.codes)\n",
    "data95=np.array(data95)\n",
    "data95=np.transpose(data95)\n",
    "data95[0]=np.log(data95[0]+0.1)\n",
    "plt.hist(data95[0])"
   ]
  },
  {
   "cell_type": "code",
   "execution_count": 8,
   "metadata": {
    "collapsed": true
   },
   "outputs": [],
   "source": [
    "#turn rate into 0 or 1\n",
    "for i in range(data95.shape[1]):\n",
    "    if data95[0][i]<-2.06279557:\n",
    "        data95[0][i]=0\n",
    "    else:\n",
    "        data95[0][i]=1"
   ]
  },
  {
   "cell_type": "code",
   "execution_count": 9,
   "metadata": {
    "collapsed": true
   },
   "outputs": [],
   "source": [
    "kf1=KFold(data95.shape[1],10,shuffle=False, random_state=111)\n",
    "from sklearn.svm import LinearSVC, SVC"
   ]
  },
  {
   "cell_type": "code",
   "execution_count": 12,
   "metadata": {
    "collapsed": false
   },
   "outputs": [
    {
     "name": "stdout",
     "output_type": "stream",
     "text": [
      "AUC: 0.6455026455026455\n",
      "AUC: 0.7260869565217392\n",
      "AUC: 0.6438098495212039\n",
      "AUC: 0.5844771241830066\n",
      "AUC: 0.5007911392405063\n",
      "AUC: 0.5421052631578948\n",
      "AUC: 0.6116362451108214\n",
      "AUC: 0.6704980842911877\n",
      "AUC: 0.509641873278237\n",
      "AUC: 0.5810439560439561\n"
     ]
    }
   ],
   "source": [
    "auc_list_svm1=[]\n",
    "np.place(data95[0],data95[0]==0,-1)\n",
    "for i in range(10):\n",
    "    train=np.transpose(data95[envir][:,list(kf1)[i][0]])\n",
    "    \n",
    "    test=np.transpose(data95[envir][:,list(kf1)[i][1]])\n",
    "    \n",
    "    svmc=SVC(random_state=111,probability=True)\n",
    "    \n",
    "    svm=svmc.fit(train[:,1:],train[:,0])\n",
    "    \n",
    "    #use predicted probabilities to construct ROC curve and AUC score\n",
    "    soft_pred_svm = svm.predict_proba(test[:,1:])\n",
    "        \n",
    "    fpr_svm,tpr_svm,thresh_svm = roc_curve(test[:,0],soft_pred_svm[:,1])\n",
    "    \n",
    "    auc_svm=roc_auc_score(test[:,0],soft_pred_svm[:,1])\n",
    "                \n",
    "    auc_list_svm1.append(auc_svm)\n",
    "    \n",
    "    #plt.plot(fpr_svm,tpr_svm)\n",
    "        \n",
    "    #plt.plot([0,1],[0,1],\"r--\",alpha=.5)\n",
    "    \n",
    "    #plt.show()\n",
    "    print(\"AUC: {}\".format(auc_svm))"
   ]
  },
  {
   "cell_type": "code",
   "execution_count": 13,
   "metadata": {
    "collapsed": false
   },
   "outputs": [
    {
     "data": {
      "text/plain": [
       "0.60155931368511983"
      ]
     },
     "execution_count": 13,
     "metadata": {},
     "output_type": "execute_result"
    }
   ],
   "source": [
    "np.mean(auc_list_svm1)"
   ]
  },
  {
   "cell_type": "code",
   "execution_count": 14,
   "metadata": {
    "collapsed": false
   },
   "outputs": [
    {
     "name": "stdout",
     "output_type": "stream",
     "text": [
      "AUC: 0.6931216931216931\n",
      "AUC: 0.6588628762541806\n",
      "AUC: 0.5711354309165526\n",
      "AUC: 0.6761437908496732\n",
      "AUC: 0.618868670886076\n",
      "AUC: 0.48270676691729325\n",
      "AUC: 0.6584093872229465\n",
      "AUC: 0.6475095785440613\n",
      "AUC: 0.5859897678079495\n",
      "AUC: 0.6369047619047619\n"
     ]
    }
   ],
   "source": [
    "auc_list_svm2=[]\n",
    "for i in range(10):\n",
    "    train=np.transpose(data95[behav][:,list(kf1)[i][0]])\n",
    "    \n",
    "    test=np.transpose(data95[behav][:,list(kf1)[i][1]])\n",
    "    \n",
    "    svmc=SVC(random_state=111,probability=True)\n",
    "    \n",
    "    svm=svmc.fit(train[:,1:],train[:,0])\n",
    "    \n",
    "    #use predicted probabilities to construct ROC curve and AUC score\n",
    "    soft_pred_svm = svm.predict_proba(test[:,1:])\n",
    "        \n",
    "    fpr_svm,tpr_svm,thresh_svm = roc_curve(test[:,0],soft_pred_svm[:,1])\n",
    "    \n",
    "    auc_svm=roc_auc_score(test[:,0],soft_pred_svm[:,1])\n",
    "                \n",
    "    auc_list_svm2.append(auc_svm)\n",
    "    \n",
    "    #plt.plot(fpr_svm,tpr_svm)\n",
    "        \n",
    "    #plt.plot([0,1],[0,1],\"r--\",alpha=.5)\n",
    "    \n",
    "    #plt.show()\n",
    "    print(\"AUC: {}\".format(auc_svm))"
   ]
  },
  {
   "cell_type": "code",
   "execution_count": 15,
   "metadata": {
    "collapsed": false
   },
   "outputs": [
    {
     "data": {
      "text/plain": [
       "0.62296527244251876"
      ]
     },
     "execution_count": 15,
     "metadata": {},
     "output_type": "execute_result"
    }
   ],
   "source": [
    "np.mean(auc_list_svm2)"
   ]
  },
  {
   "cell_type": "code",
   "execution_count": 16,
   "metadata": {
    "collapsed": true
   },
   "outputs": [],
   "source": [
    "from sklearn.ensemble import RandomForestClassifier"
   ]
  },
  {
   "cell_type": "code",
   "execution_count": 17,
   "metadata": {
    "collapsed": false
   },
   "outputs": [
    {
     "name": "stdout",
     "output_type": "stream",
     "text": [
      "AUC: 0.505026455026455\n",
      "AUC: 0.6444816053511707\n",
      "AUC: 0.5928522571819426\n",
      "AUC: 0.6459150326797386\n",
      "AUC: 0.598496835443038\n",
      "AUC: 0.47763157894736835\n",
      "AUC: 0.6033246414602347\n",
      "AUC: 0.6855842911877394\n",
      "AUC: 0.5629673356946083\n",
      "AUC: 0.48992673992673985\n"
     ]
    }
   ],
   "source": [
    "auc_list_rf1=[]\n",
    "for i in range(10):\n",
    "    train_4=np.transpose(data95[envir][:,list(kf1)[i][0]])\n",
    "    \n",
    "    test_4=np.transpose(data95[envir][:,list(kf1)[i][1]])\n",
    "    \n",
    "    RFC=RandomForestClassifier(random_state=111)\n",
    "    \n",
    "    rf=RFC.fit(train_4[:,1:],train_4[:,0])\n",
    "    \n",
    "    #use predicted probabilities to construct ROC curve and AUC score\n",
    "    soft_pred_rf = rf.predict_proba(test_4[:,1:])\n",
    "        \n",
    "    fpr_rf,tpr_rf,thresh_rf = roc_curve(test_4[:,0],soft_pred_rf[:,1])\n",
    "    \n",
    "    auc_rf=roc_auc_score(test_4[:,0],soft_pred_rf[:,1])\n",
    "                \n",
    "    auc_list_rf1.append(auc_rf)\n",
    "    \n",
    "    print(\"AUC: {}\".format(auc_rf))\n"
   ]
  },
  {
   "cell_type": "code",
   "execution_count": 18,
   "metadata": {
    "collapsed": false
   },
   "outputs": [
    {
     "data": {
      "text/plain": [
       "0.58062067728990363"
      ]
     },
     "execution_count": 18,
     "metadata": {},
     "output_type": "execute_result"
    }
   ],
   "source": [
    "np.mean(auc_list_rf1)"
   ]
  },
  {
   "cell_type": "code",
   "execution_count": 19,
   "metadata": {
    "collapsed": false
   },
   "outputs": [
    {
     "name": "stdout",
     "output_type": "stream",
     "text": [
      "AUC: 0.505026455026455\n",
      "AUC: 0.6444816053511707\n",
      "AUC: 0.5928522571819426\n",
      "AUC: 0.6459150326797386\n",
      "AUC: 0.598496835443038\n",
      "AUC: 0.47763157894736835\n",
      "AUC: 0.6033246414602347\n",
      "AUC: 0.6855842911877394\n",
      "AUC: 0.5629673356946083\n",
      "AUC: 0.48992673992673985\n"
     ]
    }
   ],
   "source": [
    "auc_list_rf2=[]\n",
    "for i in range(10):\n",
    "    train_4=np.transpose(data95[envir][:,list(kf1)[i][0]])\n",
    "    \n",
    "    test_4=np.transpose(data95[envir][:,list(kf1)[i][1]])\n",
    "    \n",
    "    RFC=RandomForestClassifier(random_state=111)\n",
    "    \n",
    "    rf=RFC.fit(train_4[:,1:],train_4[:,0])\n",
    "    \n",
    "    #use predicted probabilities to construct ROC curve and AUC score\n",
    "    soft_pred_rf = rf.predict_proba(test_4[:,1:])\n",
    "        \n",
    "    fpr_rf,tpr_rf,thresh_rf = roc_curve(test_4[:,0],soft_pred_rf[:,1])\n",
    "    \n",
    "    auc_rf=roc_auc_score(test_4[:,0],soft_pred_rf[:,1])\n",
    "                \n",
    "    auc_list_rf2.append(auc_rf)\n",
    "    \n",
    "    print(\"AUC: {}\".format(auc_rf))\n"
   ]
  },
  {
   "cell_type": "code",
   "execution_count": 20,
   "metadata": {
    "collapsed": false
   },
   "outputs": [
    {
     "data": {
      "text/plain": [
       "0.58062067728990363"
      ]
     },
     "execution_count": 20,
     "metadata": {},
     "output_type": "execute_result"
    }
   ],
   "source": [
    "np.mean(auc_list_rf2)"
   ]
  },
  {
   "cell_type": "code",
   "execution_count": 9,
   "metadata": {
    "collapsed": false,
    "scrolled": true
   },
   "outputs": [
    {
     "name": "stderr",
     "output_type": "stream",
     "text": [
      "/Users/wsswemily/Desktop/SMELD/MELD_95.py:72: VisibleDeprecationWarning: using a non-integer number instead of an integer will result in an error in the future\n",
      "  Y_j = np.zeros((n,self.d[j]))\n",
      "/Users/wsswemily/Desktop/SMELD/MELD_95.py:74: VisibleDeprecationWarning: using a non-integer number instead of an integer will result in an error in the future\n",
      "  Y_j[i,Y[j,i]] = 1\n",
      "/Users/wsswemily/Desktop/SMELD/MELD_95.py:76: VisibleDeprecationWarning: using a non-integer number instead of an integer will result in an error in the future\n",
      "  self.Phi[j] = np.zeros((k,self.d[j]))\n",
      "/Users/wsswemily/Desktop/SMELD/MELD_95.py:77: VisibleDeprecationWarning: using a non-integer number instead of an integer will result in an error in the future\n",
      "  self.X[j] = np.zeros((k,self.d[j]))\n",
      "/Users/wsswemily/Desktop/SMELD/MELD_95.py:84: VisibleDeprecationWarning: using a non-integer number instead of an integer will result in an error in the future\n",
      "  self.Phi[j][h,:] = np.random.dirichlet([100.0]*self.d[j])\n",
      "/Users/wsswemily/Desktop/SMELD/MELD_95.py:97: VisibleDeprecationWarning: using a non-integer number instead of an integer will result in an error in the future\n",
      "  M1_j = np.zeros(self.d[j])\n",
      "/Applications/anaconda/lib/python3.5/site-packages/numpy/core/numeric.py:190: VisibleDeprecationWarning: using a non-integer number instead of an integer will result in an error in the future\n",
      "  a = empty(shape, dtype, order)\n",
      "/Users/wsswemily/Desktop/SMELD/MELD_95.py:338: VisibleDeprecationWarning: using a non-integer number instead of an integer will result in an error in the future\n",
      "  a2_jh = np.zeros(d[j])\n",
      "/Users/wsswemily/Desktop/SMELD/MELD_95.py:339: VisibleDeprecationWarning: using a non-integer number instead of an integer will result in an error in the future\n",
      "  b2_jh = np.zeros(d[j])\n",
      "/Users/wsswemily/Desktop/SMELD/MELD_95.py:382: VisibleDeprecationWarning: using a non-integer number instead of an integer will result in an error in the future\n",
      "  Phi_j = np.zeros((k,self.d[j]))\n"
     ]
    }
   ],
   "source": [
    "out_all=MELD_Backward_features(data95, 10, list(range(data95.shape[0])))"
   ]
  },
  {
   "cell_type": "code",
   "execution_count": 11,
   "metadata": {
    "collapsed": false
   },
   "outputs": [
    {
     "data": {
      "text/plain": [
       "(0.65925200148651375,\n",
       " [0, 4, 7, 17, 26, 27, 36, 43, 44, 48, 55, 56, 57],\n",
       " [0.41803278688524592,\n",
       "  0.41803278688524592,\n",
       "  0.33606557377049179,\n",
       "  0.33606557377049179,\n",
       "  0.25409836065573771,\n",
       "  0.25409836065573771,\n",
       "  0.33606557377049179,\n",
       "  0.41803278688524592,\n",
       "  0.33606557377049179,\n",
       "  0.17213114754098363,\n",
       "  0.25409836065573771,\n",
       "  0.33606557377049179,\n",
       "  0.5,\n",
       "  0.5,\n",
       "  0.41803278688524592,\n",
       "  0.5,\n",
       "  0.25409836065573771,\n",
       "  0.33606557377049179,\n",
       "  0.41803278688524592,\n",
       "  0.17213114754098363,\n",
       "  0.25409836065573771,\n",
       "  0.33606557377049179,\n",
       "  0.17213114754098363,\n",
       "  0.5,\n",
       "  0.5,\n",
       "  0.41803278688524592,\n",
       "  0.17213114754098363,\n",
       "  0.58196721311475408,\n",
       "  0.25409836065573771,\n",
       "  0.17213114754098363,\n",
       "  0.33606557377049179,\n",
       "  0.33606557377049179,\n",
       "  0.25409836065573771,\n",
       "  0.25409836065573771,\n",
       "  0.41803278688524592,\n",
       "  0.33606557377049179,\n",
       "  0.090163934426229525,\n",
       "  0.25409836065573771,\n",
       "  0.17213114754098363,\n",
       "  0.33606557377049179,\n",
       "  0.25409836065573771,\n",
       "  0.33606557377049179,\n",
       "  0.090163934426229525,\n",
       "  0.17213114754098363,\n",
       "  0.17213114754098363,\n",
       "  0.33606557377049179,\n",
       "  0.41803278688524592,\n",
       "  0.33606557377049179,\n",
       "  0.33606557377049179,\n",
       "  0.33606557377049179,\n",
       "  0.090163934426229525,\n",
       "  0.33606557377049179,\n",
       "  0.33606557377049179,\n",
       "  0.33606557377049179,\n",
       "  0.17213114754098363,\n",
       "  0.33606557377049179,\n",
       "  0.5,\n",
       "  0.33606557377049179,\n",
       "  0.25409836065573771,\n",
       "  0.5,\n",
       "  0.25409836065573771,\n",
       "  0.25409836065573771,\n",
       "  0.33606557377049179,\n",
       "  0.33606557377049179,\n",
       "  0.090163934426229525,\n",
       "  0.090163934426229525,\n",
       "  0.25409836065573771,\n",
       "  0.41803278688524592,\n",
       "  0.33606557377049179,\n",
       "  0.25409836065573771,\n",
       "  0.25409836065573771,\n",
       "  0.17213114754098363,\n",
       "  0.41803278688524592,\n",
       "  0.33606557377049179,\n",
       "  0.5,\n",
       "  0.33606557377049179,\n",
       "  0.090163934426229525,\n",
       "  0.33606557377049179,\n",
       "  0.25409836065573771,\n",
       "  0.090163934426229525,\n",
       "  0.5,\n",
       "  0.17213114754098363,\n",
       "  0.17213114754098363,\n",
       "  0.25409836065573771,\n",
       "  0.17213114754098363,\n",
       "  0.33606557377049179,\n",
       "  0.25409836065573771,\n",
       "  0.33606557377049179,\n",
       "  0.25409836065573771,\n",
       "  0.090163934426229525,\n",
       "  0.25409836065573771,\n",
       "  0.33606557377049179,\n",
       "  0.25409836065573771,\n",
       "  0.33606557377049179,\n",
       "  0.0081967213114754103,\n",
       "  0.66393442622950816,\n",
       "  0.25409836065573771,\n",
       "  0.33606557377049179,\n",
       "  0.41803278688524592,\n",
       "  0.17213114754098363,\n",
       "  0.17213114754098363,\n",
       "  0.41803278688524592,\n",
       "  0.33606557377049179,\n",
       "  0.41803278688524592,\n",
       "  0.33606557377049179,\n",
       "  0.5,\n",
       "  0.33606557377049179,\n",
       "  0.25409836065573771,\n",
       "  0.41803278688524592,\n",
       "  0.25409836065573771,\n",
       "  0.5,\n",
       "  0.25409836065573771,\n",
       "  0.33606557377049179,\n",
       "  0.33606557377049179,\n",
       "  0.17213114754098363,\n",
       "  0.17213114754098363,\n",
       "  0.66393442622950816,\n",
       "  0.33606557377049179,\n",
       "  0.090163934426229525,\n",
       "  0.41803278688524592,\n",
       "  0.58196721311475408,\n",
       "  0.33606557377049179,\n",
       "  0.41803278688524592,\n",
       "  0.25409836065573771,\n",
       "  0.25409836065573771,\n",
       "  0.25409836065573771,\n",
       "  0.25409836065573771,\n",
       "  0.25409836065573771,\n",
       "  0.33606557377049179,\n",
       "  0.58196721311475408,\n",
       "  0.66393442622950816,\n",
       "  0.17213114754098363,\n",
       "  0.17213114754098363,\n",
       "  0.17213114754098363,\n",
       "  0.41803278688524592,\n",
       "  0.58196721311475408,\n",
       "  0.41803278688524592,\n",
       "  0.25409836065573771,\n",
       "  0.17213114754098363,\n",
       "  0.41803278688524592,\n",
       "  0.33606557377049179,\n",
       "  0.33606557377049179,\n",
       "  0.17213114754098363,\n",
       "  0.33606557377049179,\n",
       "  0.41803278688524592,\n",
       "  0.41803278688524592,\n",
       "  0.41803278688524592,\n",
       "  0.33606557377049179,\n",
       "  0.17213114754098363,\n",
       "  0.17213114754098363,\n",
       "  0.0081967213114754103,\n",
       "  0.17213114754098363,\n",
       "  0.25409836065573771,\n",
       "  0.33606557377049179,\n",
       "  0.41803278688524592,\n",
       "  0.58196721311475408,\n",
       "  0.41803278688524592,\n",
       "  0.33606557377049179,\n",
       "  0.41803278688524592,\n",
       "  0.58196721311475408,\n",
       "  0.41803278688524592,\n",
       "  0.58196721311475408,\n",
       "  0.33606557377049179,\n",
       "  0.33606557377049179,\n",
       "  0.58196721311475408,\n",
       "  0.41803278688524592,\n",
       "  0.41803278688524592,\n",
       "  0.41803278688524592,\n",
       "  0.58196721311475408,\n",
       "  0.25409836065573771,\n",
       "  0.25409836065573771,\n",
       "  0.25409836065573771,\n",
       "  0.5,\n",
       "  0.25409836065573771,\n",
       "  0.25409836065573771,\n",
       "  0.5,\n",
       "  0.33606557377049179,\n",
       "  0.17213114754098363,\n",
       "  0.41803278688524592,\n",
       "  0.25409836065573771,\n",
       "  0.17213114754098363,\n",
       "  0.33606557377049179,\n",
       "  0.17213114754098363,\n",
       "  0.5,\n",
       "  0.17213114754098363,\n",
       "  0.17213114754098363,\n",
       "  0.5,\n",
       "  0.17213114754098363,\n",
       "  0.33606557377049179,\n",
       "  0.17213114754098363,\n",
       "  0.33606557377049179,\n",
       "  0.33606557377049179,\n",
       "  0.58196721311475408,\n",
       "  0.33606557377049179,\n",
       "  0.41803278688524592,\n",
       "  0.25409836065573771,\n",
       "  0.090163934426229525,\n",
       "  0.25409836065573771,\n",
       "  0.5,\n",
       "  0.58196721311475408,\n",
       "  0.17213114754098363,\n",
       "  0.41803278688524592,\n",
       "  0.25409836065573771,\n",
       "  0.5,\n",
       "  0.090163934426229525,\n",
       "  0.58196721311475408,\n",
       "  0.33606557377049179,\n",
       "  0.25409836065573771,\n",
       "  0.17213114754098363,\n",
       "  0.25409836065573771,\n",
       "  0.33606557377049179,\n",
       "  0.33606557377049179,\n",
       "  0.25409836065573771,\n",
       "  0.090163934426229525,\n",
       "  0.17213114754098363,\n",
       "  0.66393442622950816,\n",
       "  0.41803278688524592,\n",
       "  0.33606557377049179,\n",
       "  0.25409836065573771,\n",
       "  0.17213114754098363,\n",
       "  0.33606557377049179,\n",
       "  0.33606557377049179,\n",
       "  0.33606557377049179,\n",
       "  0.33606557377049179,\n",
       "  0.33606557377049179,\n",
       "  0.41803278688524592,\n",
       "  0.33606557377049179,\n",
       "  0.17213114754098363,\n",
       "  0.33606557377049179,\n",
       "  0.0081967213114754103,\n",
       "  0.41803278688524592,\n",
       "  0.41803278688524592,\n",
       "  0.25409836065573771,\n",
       "  0.33606557377049179,\n",
       "  0.41803278688524592,\n",
       "  0.17213114754098363,\n",
       "  0.33606557377049179,\n",
       "  0.41803278688524592,\n",
       "  0.41803278688524592,\n",
       "  0.25409836065573771,\n",
       "  0.41803278688524592,\n",
       "  0.33606557377049179,\n",
       "  0.5,\n",
       "  0.17213114754098363,\n",
       "  0.33606557377049179,\n",
       "  0.33606557377049179,\n",
       "  0.090163934426229525,\n",
       "  0.66393442622950816,\n",
       "  0.090163934426229525,\n",
       "  0.41803278688524592,\n",
       "  0.090163934426229525,\n",
       "  0.25409836065573771,\n",
       "  0.25409836065573771,\n",
       "  0.5,\n",
       "  0.25409836065573771,\n",
       "  0.41803278688524592,\n",
       "  0.41803278688524592,\n",
       "  0.33606557377049179,\n",
       "  0.090163934426229525,\n",
       "  0.41803278688524592,\n",
       "  0.17213114754098363,\n",
       "  0.41803278688524592,\n",
       "  0.33606557377049179,\n",
       "  0.33606557377049179,\n",
       "  0.25409836065573771,\n",
       "  0.25409836065573771,\n",
       "  0.25409836065573771,\n",
       "  0.25409836065573771,\n",
       "  0.25409836065573771,\n",
       "  0.41803278688524592,\n",
       "  0.33606557377049179,\n",
       "  0.25409836065573771,\n",
       "  0.5,\n",
       "  0.58196721311475408,\n",
       "  0.41803278688524592,\n",
       "  0.090163934426229525,\n",
       "  0.33606557377049179,\n",
       "  0.41803278688524592,\n",
       "  0.090163934426229525,\n",
       "  0.33606557377049179,\n",
       "  0.41803278688524592,\n",
       "  0.41803278688524592,\n",
       "  0.5,\n",
       "  0.41803278688524592,\n",
       "  0.41803278688524592,\n",
       "  0.17213114754098363,\n",
       "  0.17213114754098363,\n",
       "  0.17213114754098363,\n",
       "  0.5,\n",
       "  0.17213114754098363,\n",
       "  0.25409836065573771,\n",
       "  0.33606557377049179,\n",
       "  0.41803278688524592,\n",
       "  0.33606557377049179,\n",
       "  0.17213114754098363,\n",
       "  0.25409836065573771,\n",
       "  0.41803278688524592,\n",
       "  0.33606557377049179,\n",
       "  0.33606557377049179,\n",
       "  0.33606557377049179,\n",
       "  0.41803278688524592,\n",
       "  0.25409836065573771,\n",
       "  0.0081967213114754103,\n",
       "  0.41803278688524592,\n",
       "  0.17213114754098363,\n",
       "  0.41803278688524592,\n",
       "  0.25409836065573771,\n",
       "  0.41803278688524592,\n",
       "  0.33606557377049179,\n",
       "  0.33606557377049179,\n",
       "  0.25409836065573771,\n",
       "  0.33606557377049179,\n",
       "  0.17213114754098363,\n",
       "  0.25409836065573771,\n",
       "  0.58196721311475408,\n",
       "  0.5,\n",
       "  0.25409836065573771,\n",
       "  0.33606557377049179,\n",
       "  0.5,\n",
       "  0.17213114754098363,\n",
       "  0.5,\n",
       "  0.25409836065573771,\n",
       "  0.25409836065573771,\n",
       "  0.25409836065573771,\n",
       "  0.41803278688524592,\n",
       "  0.090163934426229525,\n",
       "  0.090163934426229525,\n",
       "  0.33606557377049179,\n",
       "  0.5,\n",
       "  0.41803278688524592,\n",
       "  0.090163934426229525,\n",
       "  0.41803278688524592,\n",
       "  0.25409836065573771,\n",
       "  0.41803278688524592,\n",
       "  0.33606557377049179,\n",
       "  0.66393442622950816,\n",
       "  0.17213114754098363,\n",
       "  0.25409836065573771,\n",
       "  0.41803278688524592,\n",
       "  0.25409836065573771,\n",
       "  0.090163934426229525,\n",
       "  0.33606557377049179,\n",
       "  0.17213114754098363,\n",
       "  0.090163934426229525,\n",
       "  0.17213114754098363,\n",
       "  0.17213114754098363,\n",
       "  0.090163934426229525,\n",
       "  0.5,\n",
       "  0.33606557377049179,\n",
       "  0.25409836065573771,\n",
       "  0.5,\n",
       "  0.090163934426229525,\n",
       "  0.33606557377049179,\n",
       "  0.090163934426229525,\n",
       "  0.25409836065573771,\n",
       "  0.25409836065573771,\n",
       "  0.17213114754098363,\n",
       "  0.58196721311475408,\n",
       "  0.41803278688524592,\n",
       "  0.33606557377049179,\n",
       "  0.090163934426229525,\n",
       "  0.33606557377049179,\n",
       "  0.25409836065573771,\n",
       "  0.5,\n",
       "  0.41803278688524592,\n",
       "  0.33606557377049179,\n",
       "  0.58196721311475408,\n",
       "  0.25409836065573771,\n",
       "  0.33606557377049179,\n",
       "  0.33606557377049179,\n",
       "  0.33606557377049179,\n",
       "  0.33606557377049179,\n",
       "  0.17213114754098363,\n",
       "  0.41803278688524592,\n",
       "  0.5,\n",
       "  0.25409836065573771,\n",
       "  0.33606557377049179,\n",
       "  0.25409836065573771,\n",
       "  0.090163934426229525,\n",
       "  0.5,\n",
       "  0.41803278688524592,\n",
       "  0.25409836065573771,\n",
       "  0.090163934426229525,\n",
       "  0.33606557377049179,\n",
       "  0.33606557377049179,\n",
       "  0.33606557377049179,\n",
       "  0.66393442622950816,\n",
       "  0.5,\n",
       "  0.41803278688524592,\n",
       "  0.17213114754098363,\n",
       "  0.33606557377049179,\n",
       "  0.41803278688524592,\n",
       "  0.33606557377049179,\n",
       "  0.41803278688524592,\n",
       "  0.41803278688524592,\n",
       "  0.33606557377049179,\n",
       "  0.33606557377049179,\n",
       "  0.41803278688524592,\n",
       "  0.33606557377049179,\n",
       "  0.41803278688524592,\n",
       "  0.25409836065573771,\n",
       "  0.090163934426229525,\n",
       "  0.17213114754098363,\n",
       "  0.17213114754098363,\n",
       "  0.090163934426229525,\n",
       "  0.17213114754098363,\n",
       "  0.17213114754098363,\n",
       "  0.25409836065573771,\n",
       "  0.25409836065573771,\n",
       "  0.41803278688524592,\n",
       "  0.0081967213114754103,\n",
       "  0.17213114754098363,\n",
       "  0.41803278688524592,\n",
       "  0.33606557377049179,\n",
       "  0.25409836065573771,\n",
       "  0.5,\n",
       "  0.17213114754098363,\n",
       "  0.41803278688524592,\n",
       "  0.41803278688524592,\n",
       "  0.25409836065573771,\n",
       "  0.33606557377049179,\n",
       "  0.41803278688524592,\n",
       "  0.5,\n",
       "  0.33606557377049179,\n",
       "  0.33606557377049179,\n",
       "  0.66393442622950816,\n",
       "  0.5,\n",
       "  0.25409836065573771,\n",
       "  0.41803278688524592,\n",
       "  0.25409836065573771,\n",
       "  0.33606557377049179,\n",
       "  0.41803278688524592,\n",
       "  0.33606557377049179,\n",
       "  0.25409836065573771,\n",
       "  0.41803278688524592,\n",
       "  0.33606557377049179,\n",
       "  0.33606557377049179,\n",
       "  0.58196721311475408,\n",
       "  0.25409836065573771,\n",
       "  0.25409836065573771,\n",
       "  0.25409836065573771,\n",
       "  0.25409836065573771,\n",
       "  0.5,\n",
       "  0.33606557377049179,\n",
       "  0.17213114754098363,\n",
       "  0.58196721311475408,\n",
       "  0.5,\n",
       "  0.25409836065573771,\n",
       "  0.33606557377049179,\n",
       "  0.25409836065573771,\n",
       "  0.41803278688524592,\n",
       "  0.090163934426229525,\n",
       "  0.41803278688524592,\n",
       "  0.41803278688524592,\n",
       "  0.25409836065573771,\n",
       "  0.33606557377049179,\n",
       "  0.41803278688524592,\n",
       "  0.25409836065573771,\n",
       "  0.5,\n",
       "  0.25409836065573771,\n",
       "  0.25409836065573771,\n",
       "  0.25409836065573771,\n",
       "  0.33606557377049179,\n",
       "  0.33606557377049179,\n",
       "  0.33606557377049179,\n",
       "  0.5,\n",
       "  0.25409836065573771,\n",
       "  0.41803278688524592,\n",
       "  0.41803278688524592,\n",
       "  0.090163934426229525,\n",
       "  0.17213114754098363,\n",
       "  0.25409836065573771,\n",
       "  0.33606557377049179,\n",
       "  0.33606557377049179,\n",
       "  0.41803278688524592,\n",
       "  0.33606557377049179,\n",
       "  0.41803278688524592,\n",
       "  0.5,\n",
       "  0.25409836065573771,\n",
       "  0.25409836065573771,\n",
       "  0.17213114754098363,\n",
       "  0.17213114754098363,\n",
       "  0.25409836065573771,\n",
       "  0.33606557377049179,\n",
       "  0.25409836065573771,\n",
       "  0.5,\n",
       "  0.5,\n",
       "  0.25409836065573771,\n",
       "  0.41803278688524592,\n",
       "  0.17213114754098363,\n",
       "  0.25409836065573771,\n",
       "  0.33606557377049179,\n",
       "  0.25409836065573771,\n",
       "  0.41803278688524592,\n",
       "  0.25409836065573771,\n",
       "  0.58196721311475408,\n",
       "  0.41803278688524592,\n",
       "  0.5,\n",
       "  0.33606557377049179,\n",
       "  0.25409836065573771,\n",
       "  0.33606557377049179,\n",
       "  0.25409836065573771,\n",
       "  0.66393442622950816,\n",
       "  0.58196721311475408,\n",
       "  0.090163934426229525,\n",
       "  0.25409836065573771,\n",
       "  0.33606557377049179,\n",
       "  0.58196721311475408,\n",
       "  0.25409836065573771,\n",
       "  0.33606557377049179,\n",
       "  0.25409836065573771,\n",
       "  0.33606557377049179,\n",
       "  0.33606557377049179,\n",
       "  0.41803278688524592,\n",
       "  0.33606557377049179,\n",
       "  0.33606557377049179,\n",
       "  0.0081967213114754103,\n",
       "  0.17213114754098363,\n",
       "  0.25409836065573771,\n",
       "  0.5,\n",
       "  0.17213114754098363,\n",
       "  0.41803278688524592,\n",
       "  0.5,\n",
       "  0.33606557377049179,\n",
       "  0.33606557377049179,\n",
       "  0.17213114754098363,\n",
       "  0.33606557377049179,\n",
       "  0.0081967213114754103,\n",
       "  0.090163934426229525,\n",
       "  0.41803278688524592,\n",
       "  0.41803278688524592,\n",
       "  0.58196721311475408,\n",
       "  0.33606557377049179,\n",
       "  0.33606557377049179,\n",
       "  0.17213114754098363,\n",
       "  0.25409836065573771,\n",
       "  0.5,\n",
       "  0.17213114754098363,\n",
       "  0.5,\n",
       "  0.41803278688524592,\n",
       "  0.17213114754098363,\n",
       "  0.66393442622950816,\n",
       "  0.25409836065573771,\n",
       "  0.41803278688524592,\n",
       "  0.41803278688524592,\n",
       "  0.33606557377049179,\n",
       "  0.41803278688524592,\n",
       "  0.41803278688524592,\n",
       "  0.33606557377049179,\n",
       "  0.090163934426229525,\n",
       "  0.25409836065573771,\n",
       "  0.17213114754098363,\n",
       "  0.33606557377049179,\n",
       "  0.25409836065573771,\n",
       "  0.33606557377049179,\n",
       "  0.17213114754098363,\n",
       "  0.25409836065573771,\n",
       "  0.33606557377049179,\n",
       "  0.33606557377049179,\n",
       "  0.58196721311475408,\n",
       "  0.33606557377049179,\n",
       "  0.5,\n",
       "  0.17213114754098363,\n",
       "  0.17213114754098363,\n",
       "  0.58196721311475408,\n",
       "  0.41803278688524592,\n",
       "  0.58196721311475408,\n",
       "  0.41803278688524592,\n",
       "  0.5,\n",
       "  0.25409836065573771,\n",
       "  0.25409836065573771,\n",
       "  0.33606557377049179,\n",
       "  0.33606557377049179,\n",
       "  0.25409836065573771,\n",
       "  0.41803278688524592,\n",
       "  0.33606557377049179,\n",
       "  0.5,\n",
       "  0.17213114754098363,\n",
       "  0.17213114754098363,\n",
       "  0.58196721311475408,\n",
       "  0.25409836065573771,\n",
       "  0.33606557377049179,\n",
       "  0.090163934426229525,\n",
       "  0.33606557377049179,\n",
       "  0.17213114754098363,\n",
       "  0.5,\n",
       "  0.41803278688524592,\n",
       "  0.33606557377049179,\n",
       "  0.25409836065573771,\n",
       "  0.25409836065573771,\n",
       "  0.33606557377049179,\n",
       "  0.41803278688524592,\n",
       "  0.17213114754098363,\n",
       "  0.25409836065573771,\n",
       "  0.25409836065573771,\n",
       "  0.25409836065573771,\n",
       "  0.17213114754098363,\n",
       "  0.41803278688524592,\n",
       "  0.25409836065573771,\n",
       "  0.090163934426229525,\n",
       "  0.33606557377049179,\n",
       "  0.25409836065573771,\n",
       "  0.41803278688524592,\n",
       "  0.25409836065573771,\n",
       "  0.25409836065573771,\n",
       "  0.41803278688524592,\n",
       "  0.58196721311475408,\n",
       "  0.58196721311475408,\n",
       "  0.33606557377049179,\n",
       "  0.41803278688524592,\n",
       "  0.58196721311475408,\n",
       "  0.33606557377049179,\n",
       "  0.5,\n",
       "  0.5,\n",
       "  0.41803278688524592,\n",
       "  0.5,\n",
       "  0.090163934426229525,\n",
       "  0.33606557377049179,\n",
       "  0.41803278688524592,\n",
       "  0.41803278688524592,\n",
       "  0.41803278688524592,\n",
       "  0.25409836065573771,\n",
       "  0.33606557377049179,\n",
       "  0.17213114754098363,\n",
       "  0.25409836065573771,\n",
       "  0.41803278688524592,\n",
       "  0.33606557377049179,\n",
       "  0.5,\n",
       "  0.33606557377049179,\n",
       "  0.41803278688524592,\n",
       "  0.25409836065573771,\n",
       "  0.33606557377049179,\n",
       "  0.17213114754098363,\n",
       "  0.17213114754098363,\n",
       "  0.5,\n",
       "  0.25409836065573771,\n",
       "  0.25409836065573771,\n",
       "  0.17213114754098363,\n",
       "  0.25409836065573771,\n",
       "  0.090163934426229525,\n",
       "  0.33606557377049179,\n",
       "  0.17213114754098363,\n",
       "  0.41803278688524592,\n",
       "  0.58196721311475408,\n",
       "  0.17213114754098363,\n",
       "  0.25409836065573771,\n",
       "  0.17213114754098363,\n",
       "  0.33606557377049179,\n",
       "  0.17213114754098363,\n",
       "  0.33606557377049179,\n",
       "  0.25409836065573771,\n",
       "  0.5,\n",
       "  0.0081967213114754103,\n",
       "  0.090163934426229525,\n",
       "  0.41803278688524592,\n",
       "  0.33606557377049179,\n",
       "  0.090163934426229525,\n",
       "  0.17213114754098363,\n",
       "  0.33606557377049179,\n",
       "  0.41803278688524592,\n",
       "  0.74590163934426235,\n",
       "  0.25409836065573771,\n",
       "  0.41803278688524592,\n",
       "  0.33606557377049179,\n",
       "  0.41803278688524592,\n",
       "  0.33606557377049179,\n",
       "  0.17213114754098363,\n",
       "  0.25409836065573771,\n",
       "  0.25409836065573771,\n",
       "  0.41803278688524592,\n",
       "  0.090163934426229525,\n",
       "  0.25409836065573771,\n",
       "  0.41803278688524592,\n",
       "  0.33606557377049179,\n",
       "  0.25409836065573771,\n",
       "  0.41803278688524592,\n",
       "  0.17213114754098363,\n",
       "  0.25409836065573771,\n",
       "  0.17213114754098363,\n",
       "  0.5,\n",
       "  0.25409836065573771,\n",
       "  0.33606557377049179,\n",
       "  0.17213114754098363,\n",
       "  0.25409836065573771,\n",
       "  0.25409836065573771,\n",
       "  0.17213114754098363,\n",
       "  0.25409836065573771,\n",
       "  0.33606557377049179,\n",
       "  0.25409836065573771,\n",
       "  0.25409836065573771,\n",
       "  0.25409836065573771,\n",
       "  0.33606557377049179,\n",
       "  0.33606557377049179,\n",
       "  0.33606557377049179,\n",
       "  0.41803278688524592,\n",
       "  0.25409836065573771,\n",
       "  0.41803278688524592,\n",
       "  0.41803278688524592,\n",
       "  0.33606557377049179,\n",
       "  0.17213114754098363,\n",
       "  0.25409836065573771,\n",
       "  0.41803278688524592,\n",
       "  0.41803278688524592,\n",
       "  0.17213114754098363,\n",
       "  0.5,\n",
       "  0.33606557377049179,\n",
       "  0.5,\n",
       "  0.25409836065573771,\n",
       "  0.25409836065573771,\n",
       "  0.25409836065573771,\n",
       "  0.17213114754098363,\n",
       "  0.25409836065573771,\n",
       "  0.41803278688524592,\n",
       "  0.25409836065573771,\n",
       "  0.25409836065573771,\n",
       "  0.41803278688524592,\n",
       "  0.25409836065573771,\n",
       "  0.25409836065573771,\n",
       "  0.25409836065573771,\n",
       "  0.5,\n",
       "  0.41803278688524592,\n",
       "  0.33606557377049179,\n",
       "  0.25409836065573771,\n",
       "  0.33606557377049179,\n",
       "  0.41803278688524592,\n",
       "  0.41803278688524592,\n",
       "  0.17213114754098363,\n",
       "  0.33606557377049179,\n",
       "  0.33606557377049179,\n",
       "  0.41803278688524592,\n",
       "  0.41803278688524592,\n",
       "  0.17213114754098363,\n",
       "  0.5,\n",
       "  0.25409836065573771,\n",
       "  0.090163934426229525,\n",
       "  0.25409836065573771,\n",
       "  0.33606557377049179,\n",
       "  0.33606557377049179,\n",
       "  0.25409836065573771,\n",
       "  0.41803278688524592,\n",
       "  0.41803278688524592,\n",
       "  0.33606557377049179,\n",
       "  0.41803278688524592,\n",
       "  0.17213114754098363,\n",
       "  0.33606557377049179,\n",
       "  0.33606557377049179,\n",
       "  0.25409836065573771,\n",
       "  0.25409836065573771,\n",
       "  0.25409836065573771,\n",
       "  0.17213114754098363,\n",
       "  0.17213114754098363,\n",
       "  0.090163934426229525,\n",
       "  0.41803278688524592,\n",
       "  0.090163934426229525,\n",
       "  0.25409836065573771,\n",
       "  0.25409836065573771,\n",
       "  0.090163934426229525,\n",
       "  0.090163934426229525,\n",
       "  0.25409836065573771,\n",
       "  0.17213114754098363,\n",
       "  0.25409836065573771,\n",
       "  0.33606557377049179,\n",
       "  0.090163934426229525,\n",
       "  0.17213114754098363,\n",
       "  0.17213114754098363,\n",
       "  0.17213114754098363,\n",
       "  0.090163934426229525,\n",
       "  0.25409836065573771,\n",
       "  0.33606557377049179,\n",
       "  0.33606557377049179,\n",
       "  0.33606557377049179,\n",
       "  0.33606557377049179,\n",
       "  0.17213114754098363,\n",
       "  0.33606557377049179,\n",
       "  0.25409836065573771,\n",
       "  0.0081967213114754103,\n",
       "  0.17213114754098363,\n",
       "  0.5,\n",
       "  0.33606557377049179,\n",
       "  0.41803278688524592,\n",
       "  0.41803278688524592,\n",
       "  0.33606557377049179,\n",
       "  0.090163934426229525,\n",
       "  0.25409836065573771,\n",
       "  0.33606557377049179,\n",
       "  0.25409836065573771,\n",
       "  0.33606557377049179,\n",
       "  0.090163934426229525,\n",
       "  0.090163934426229525,\n",
       "  0.17213114754098363,\n",
       "  0.17213114754098363,\n",
       "  0.090163934426229525,\n",
       "  0.090163934426229525,\n",
       "  0.17213114754098363,\n",
       "  0.17213114754098363,\n",
       "  0.33606557377049179,\n",
       "  0.090163934426229525,\n",
       "  0.090163934426229525,\n",
       "  0.33606557377049179,\n",
       "  0.41803278688524592,\n",
       "  0.17213114754098363,\n",
       "  0.25409836065573771,\n",
       "  0.17213114754098363,\n",
       "  0.25409836065573771,\n",
       "  0.090163934426229525,\n",
       "  0.41803278688524592,\n",
       "  0.33606557377049179,\n",
       "  0.25409836065573771,\n",
       "  0.17213114754098363,\n",
       "  0.090163934426229525,\n",
       "  0.33606557377049179,\n",
       "  0.090163934426229525,\n",
       "  0.25409836065573771,\n",
       "  0.25409836065573771,\n",
       "  0.33606557377049179,\n",
       "  0.17213114754098363,\n",
       "  0.17213114754098363,\n",
       "  0.17213114754098363,\n",
       "  0.17213114754098363,\n",
       "  0.33606557377049179,\n",
       "  0.090163934426229525,\n",
       "  0.33606557377049179,\n",
       "  0.25409836065573771,\n",
       "  0.17213114754098363,\n",
       "  0.33606557377049179,\n",
       "  0.33606557377049179,\n",
       "  0.17213114754098363,\n",
       "  0.090163934426229525,\n",
       "  0.090163934426229525,\n",
       "  0.33606557377049179,\n",
       "  0.25409836065573771,\n",
       "  0.25409836065573771,\n",
       "  0.33606557377049179,\n",
       "  0.33606557377049179,\n",
       "  0.66393442622950816,\n",
       "  0.25409836065573771,\n",
       "  0.33606557377049179,\n",
       "  0.090163934426229525,\n",
       "  0.41803278688524592,\n",
       "  0.5,\n",
       "  0.25409836065573771,\n",
       "  0.17213114754098363,\n",
       "  0.25409836065573771,\n",
       "  0.17213114754098363,\n",
       "  0.25409836065573771,\n",
       "  0.17213114754098363,\n",
       "  0.33606557377049179,\n",
       "  0.33606557377049179,\n",
       "  0.090163934426229525,\n",
       "  0.25409836065573771,\n",
       "  0.33606557377049179,\n",
       "  0.25409836065573771,\n",
       "  0.17213114754098363,\n",
       "  0.17213114754098363,\n",
       "  0.25409836065573771,\n",
       "  0.58196721311475408,\n",
       "  0.33606557377049179,\n",
       "  0.33606557377049179,\n",
       "  0.25409836065573771,\n",
       "  0.33606557377049179,\n",
       "  0.17213114754098363,\n",
       "  0.25409836065573771,\n",
       "  0.41803278688524592,\n",
       "  0.17213114754098363,\n",
       "  0.33606557377049179,\n",
       "  0.17213114754098363,\n",
       "  0.66393442622950816,\n",
       "  0.25409836065573771,\n",
       "  0.17213114754098363,\n",
       "  0.33606557377049179,\n",
       "  0.17213114754098363,\n",
       "  0.25409836065573771,\n",
       "  0.090163934426229525,\n",
       "  0.41803278688524592,\n",
       "  0.25409836065573771,\n",
       "  0.41803278688524592,\n",
       "  0.25409836065573771,\n",
       "  0.17213114754098363,\n",
       "  0.090163934426229525,\n",
       "  0.17213114754098363,\n",
       "  0.33606557377049179,\n",
       "  0.090163934426229525,\n",
       "  0.33606557377049179,\n",
       "  0.25409836065573771,\n",
       "  0.090163934426229525,\n",
       "  0.41803278688524592,\n",
       "  0.41803278688524592,\n",
       "  0.41803278688524592,\n",
       "  0.17213114754098363,\n",
       "  0.33606557377049179,\n",
       "  0.33606557377049179,\n",
       "  0.5,\n",
       "  0.33606557377049179,\n",
       "  0.17213114754098363,\n",
       "  0.25409836065573771,\n",
       "  0.41803278688524592,\n",
       "  0.17213114754098363,\n",
       "  0.25409836065573771,\n",
       "  0.41803278688524592,\n",
       "  0.17213114754098363,\n",
       "  0.17213114754098363,\n",
       "  0.41803278688524592,\n",
       "  0.17213114754098363,\n",
       "  0.33606557377049179,\n",
       "  0.33606557377049179,\n",
       "  0.25409836065573771,\n",
       "  0.090163934426229525,\n",
       "  0.25409836065573771,\n",
       "  0.090163934426229525,\n",
       "  0.33606557377049179,\n",
       "  0.33606557377049179,\n",
       "  0.25409836065573771,\n",
       "  0.17213114754098363,\n",
       "  0.17213114754098363,\n",
       "  0.33606557377049179,\n",
       "  0.0081967213114754103,\n",
       "  0.17213114754098363,\n",
       "  0.25409836065573771,\n",
       "  0.17213114754098363,\n",
       "  0.25409836065573771,\n",
       "  0.25409836065573771,\n",
       "  0.25409836065573771,\n",
       "  0.17213114754098363,\n",
       "  0.41803278688524592,\n",
       "  0.33606557377049179,\n",
       "  0.17213114754098363,\n",
       "  0.33606557377049179,\n",
       "  0.41803278688524592,\n",
       "  0.17213114754098363,\n",
       "  0.41803278688524592,\n",
       "  0.41803278688524592,\n",
       "  0.41803278688524592,\n",
       "  0.25409836065573771,\n",
       "  0.33606557377049179,\n",
       "  0.33606557377049179,\n",
       "  0.25409836065573771,\n",
       "  0.17213114754098363,\n",
       "  0.17213114754098363,\n",
       "  0.090163934426229525,\n",
       "  0.5,\n",
       "  0.17213114754098363,\n",
       "  0.5,\n",
       "  0.17213114754098363,\n",
       "  0.41803278688524592,\n",
       "  0.17213114754098363,\n",
       "  0.17213114754098363,\n",
       "  0.33606557377049179,\n",
       "  0.58196721311475408,\n",
       "  0.33606557377049179,\n",
       "  0.41803278688524592,\n",
       "  0.17213114754098363,\n",
       "  0.33606557377049179,\n",
       "  0.25409836065573771,\n",
       "  0.5,\n",
       "  0.33606557377049179,\n",
       "  0.5,\n",
       "  0.17213114754098363,\n",
       "  0.25409836065573771,\n",
       "  0.33606557377049179,\n",
       "  0.33606557377049179,\n",
       "  0.5,\n",
       "  0.41803278688524592,\n",
       "  0.17213114754098363,\n",
       "  0.33606557377049179,\n",
       "  0.33606557377049179,\n",
       "  0.17213114754098363,\n",
       "  0.5,\n",
       "  0.17213114754098363,\n",
       "  0.33606557377049179,\n",
       "  0.25409836065573771,\n",
       "  0.17213114754098363,\n",
       "  0.25409836065573771,\n",
       "  0.5,\n",
       "  0.17213114754098363,\n",
       "  0.41803278688524592,\n",
       "  0.5,\n",
       "  0.41803278688524592,\n",
       "  0.41803278688524592,\n",
       "  0.33606557377049179,\n",
       "  0.25409836065573771,\n",
       "  0.33606557377049179,\n",
       "  0.25409836065573771,\n",
       "  0.090163934426229525,\n",
       "  0.41803278688524592,\n",
       "  0.25409836065573771,\n",
       "  0.66393442622950816,\n",
       "  0.17213114754098363,\n",
       "  0.25409836065573771,\n",
       "  0.41803278688524592,\n",
       "  0.33606557377049179,\n",
       "  0.33606557377049179,\n",
       "  0.25409836065573771,\n",
       "  0.25409836065573771,\n",
       "  0.25409836065573771,\n",
       "  0.33606557377049179,\n",
       "  0.090163934426229525,\n",
       "  0.5,\n",
       "  0.25409836065573771,\n",
       "  0.41803278688524592,\n",
       "  0.25409836065573771,\n",
       "  ...])"
      ]
     },
     "execution_count": 11,
     "metadata": {},
     "output_type": "execute_result"
    }
   ],
   "source": [
    "out_all"
   ]
  },
  {
   "cell_type": "code",
   "execution_count": 15,
   "metadata": {
    "collapsed": false
   },
   "outputs": [
    {
     "data": {
      "text/plain": [
       "array([[ 0, 15, 16, 17, 18, 19, 20, 21, 22, 23, 26, 27, 28, 29, 36, 38, 39,\n",
       "        40, 41, 42, 43, 44, 45, 46, 47, 48, 49, 50, 51, 53, 54, 55]])"
      ]
     },
     "execution_count": 15,
     "metadata": {},
     "output_type": "execute_result"
    }
   ],
   "source": [
    "np.array([envir])"
   ]
  },
  {
   "cell_type": "code",
   "execution_count": 16,
   "metadata": {
    "collapsed": false
   },
   "outputs": [
    {
     "data": {
      "text/plain": [
       "array([[ 0,  1,  2,  3,  4,  5,  6,  7,  8,  9, 10, 11, 12, 13, 14, 24, 25,\n",
       "        30, 31, 32, 33, 34, 35, 37, 52, 56, 57, 58, 59, 60, 61]])"
      ]
     },
     "execution_count": 16,
     "metadata": {},
     "output_type": "execute_result"
    }
   ],
   "source": [
    "np.array([behav])"
   ]
  },
  {
   "cell_type": "code",
   "execution_count": 17,
   "metadata": {
    "collapsed": false
   },
   "outputs": [
    {
     "data": {
      "text/plain": [
       "[0, 4, 7, 17, 26, 27, 36, 43, 44, 48, 55, 56, 57]"
      ]
     },
     "execution_count": 17,
     "metadata": {},
     "output_type": "execute_result"
    }
   ],
   "source": [
    "out_all[1]"
   ]
  },
  {
   "cell_type": "code",
   "execution_count": 22,
   "metadata": {
    "collapsed": false
   },
   "outputs": [
    {
     "data": {
      "text/plain": [
       "array(['rooms', 'dforest', 'driver', 'dcurral', 'cocoa', 'banana',\n",
       "       'pepper', 'dist-hosp'], dtype=object)"
      ]
     },
     "execution_count": 22,
     "metadata": {},
     "output_type": "execute_result"
    }
   ],
   "source": [
    "names[np.array([17,26,27,36,43,44,48,55])]"
   ]
  },
  {
   "cell_type": "code",
   "execution_count": 23,
   "metadata": {
    "collapsed": false
   },
   "outputs": [
    {
     "data": {
      "text/plain": [
       "array(['chainsaw', 'Hhwedu', 'v212', 'v403'], dtype=object)"
      ]
     },
     "execution_count": 23,
     "metadata": {},
     "output_type": "execute_result"
    }
   ],
   "source": [
    "names[np.array([4,7,56,57])]"
   ]
  },
  {
   "cell_type": "code",
   "execution_count": null,
   "metadata": {
    "collapsed": true
   },
   "outputs": [],
   "source": []
  }
 ],
 "metadata": {
  "anaconda-cloud": {},
  "kernelspec": {
   "display_name": "Python [Root]",
   "language": "python",
   "name": "Python [Root]"
  },
  "language_info": {
   "codemirror_mode": {
    "name": "ipython",
    "version": 3
   },
   "file_extension": ".py",
   "mimetype": "text/x-python",
   "name": "python",
   "nbconvert_exporter": "python",
   "pygments_lexer": "ipython3",
   "version": "3.5.2"
  }
 },
 "nbformat": 4,
 "nbformat_minor": 0
}
