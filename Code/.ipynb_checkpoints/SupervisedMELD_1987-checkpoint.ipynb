{
 "cells": [
  {
   "cell_type": "code",
   "execution_count": 1,
   "metadata": {},
   "outputs": [
    {
     "name": "stderr",
     "output_type": "stream",
     "text": [
      "/Users/wsswemily/anaconda/lib/python3.6/site-packages/sklearn/cross_validation.py:44: DeprecationWarning: This module was deprecated in version 0.18 in favor of the model_selection module into which all the refactored classes and functions are moved. Also note that the interface of the new CV iterators are different from that of this module. This module will be removed in 0.20.\n",
      "  \"This module will be removed in 0.20.\", DeprecationWarning)\n"
     ]
    }
   ],
   "source": [
    "%matplotlib inline\n",
    "from sklearn.cross_validation import KFold\n",
    "from sklearn.metrics import roc_curve, roc_auc_score"
   ]
  },
  {
   "cell_type": "code",
   "execution_count": 2,
   "metadata": {},
   "outputs": [],
   "source": [
    "data87=pd.read_csv('/Users/wsswemily/Desktop/GOM/Amazon/machadinho_data_1987.csv')\n",
    "data87=data87.iloc[:803,6:58]\n",
    "names=data87.columns.values"
   ]
  },
  {
   "cell_type": "code",
   "execution_count": 3,
   "metadata": {},
   "outputs": [
    {
     "data": {
      "text/plain": [
       "array(['rate', 'occup', 'arrival', 'goods', 'chainsaw', 'planter', 'Hhedu',\n",
       "       'Hhwedu', 'people', 'knowledge', 'dirtwater', 'bednet', 'DDT',\n",
       "       'protclot', 'insecticide', 'tea', 'parasite', 'daysout', 'region',\n",
       "       'pasture', 'cleared', 'planted', 'rooms', 'wall', 'roof', 'sealing',\n",
       "       'getwater', 'bath', 'topography', 'dforest', 'planstay',\n",
       "       'livedrural+1y', 'workedrural+1y', 'arrivRO', 'build',\n",
       "       'chickenpork', 'dcurral', 'banana', 'coffee', 'cocoa', 'guarana',\n",
       "       'rubber', 'Dist.neighb', '1000mRiver', '900mforest', 'Unico dono',\n",
       "       'dist-hosp', 'v101', 'v103', 'v333', 'v601', 'v602'], dtype=object)"
      ]
     },
     "execution_count": 3,
     "metadata": {},
     "output_type": "execute_result"
    }
   ],
   "source": [
    "names"
   ]
  },
  {
   "cell_type": "code",
   "execution_count": 4,
   "metadata": {},
   "outputs": [
    {
     "data": {
      "text/plain": [
       "(803, 52)"
      ]
     },
     "execution_count": 4,
     "metadata": {},
     "output_type": "execute_result"
    }
   ],
   "source": [
    "data87.shape"
   ]
  },
  {
   "cell_type": "code",
   "execution_count": 5,
   "metadata": {
    "scrolled": true
   },
   "outputs": [
    {
     "data": {
      "text/plain": [
       "(array([ 138.,   66.,   90.,   63.,  104.,   89.,   79.,   85.,   47.,   42.]),\n",
       " array([-2.30258509, -2.06279557, -1.82300604, -1.58321651, -1.34342698,\n",
       "        -1.10363746, -0.86384793, -0.6240584 , -0.38426887, -0.14447935,\n",
       "         0.09531018]),\n",
       " <a list of 10 Patch objects>)"
      ]
     },
     "execution_count": 5,
     "metadata": {},
     "output_type": "execute_result"
    },
    {
     "data": {
      "image/png": "[encoded data removed]",
      "text/plain": [
       "<matplotlib.figure.Figure at 0x10c7fc048>"
      ]
     },
     "metadata": {},
     "output_type": "display_data"
    }
   ],
   "source": [
    "data87=np.array(np.transpose(data87))\n",
    "data87[0]=np.log(data87[0].astype('float')+0.1)\n",
    "plt.hist(data87[0])"
   ]
  },
  {
   "cell_type": "code",
   "execution_count": 6,
   "metadata": {},
   "outputs": [],
   "source": [
    "#turn rate into 0 or 1\n",
    "for i in range(data87.shape[1]):\n",
    "    if data87[0][i]<-2.06279557:\n",
    "        data87[0][i]=0\n",
    "    else:\n",
    "        data87[0][i]=1"
   ]
  },
  {
   "cell_type": "code",
   "execution_count": 7,
   "metadata": {},
   "outputs": [],
   "source": [
    "data87=data87.astype('float')"
   ]
  },
  {
   "cell_type": "code",
   "execution_count": 25,
   "metadata": {
    "collapsed": true
   },
   "outputs": [],
   "source": [
    "def MELD_Backward_features(data, Numfolds, features):\n",
    "    \"\"\"This function performs supervised MELD and backward elimination algorithm\n",
    "    Parameters:\n",
    "        Input: a dataframe and number of folds\n",
    "        output: select maximum AUC and corresponding features \n",
    "        for every specific number of features  \n",
    "    \"\"\"\n",
    "    #divide data into kf cross validation folds\n",
    "    kf=KFold(data.shape[1],Numfolds,shuffle=False,random_state=111)\n",
    "    \n",
    "    def profile_class(data,phi):\n",
    "        \"\"\"This function calculates the GoM scores for each individual\n",
    "        Parameters:\n",
    "        Input: data and phi calculate from MELD\n",
    "           Output: GoM score\n",
    "        \"\"\"\n",
    "        score=np.zeros([data.shape[1],2])\n",
    "        profile=np.zeros([int(data.shape[0]),int(data.shape[1])])\n",
    "        for j in range(data.shape[1]):\n",
    "            for i in range(data.shape[0]):\n",
    "                yij=int(data[i,j])\n",
    "                #calculate M_ij\n",
    "                profile[i,j]=np.argmax(phi[i][:,yij])\n",
    "                if profile[i,j]==0:\n",
    "                    score[j,0]=score[j,0]+1\n",
    "                else:\n",
    "                    score[j,1]=score[j,1]+1\n",
    "            score[j,:]=(score[j,:]+0.1)/(phi.shape[0]+0.2)\n",
    "        return score\n",
    "    \n",
    "    #create a list of features\n",
    "    vec_list=[]\n",
    "    for j in range(len(features)-1):\n",
    "        integers=features[:]\n",
    "        del integers[j+1]\n",
    "        vec_list.append(integers)\n",
    "    \n",
    "    auc_list_outer=[]\n",
    "    whole_gom_list=[]\n",
    "    for j in range(len(vec_list)):\n",
    "        auc_list=[]\n",
    "        gom_list=[]\n",
    "        vec=vec_list[j]\n",
    "        for i in range(Numfolds):\n",
    "            train=data[:,list(kf)[i][0]]\n",
    "            test=data[:,list(kf)[i][1]]\n",
    "            import MELD_87 as MELD\n",
    "            k=2\n",
    "            S=100\n",
    "            Y = train\n",
    "            (p,n) = Y.shape\n",
    "            Yt = np.array([0]*p)\n",
    "            Yt[0]=0\n",
    "            # create an object of MELD class\n",
    "            myMELD = MELD.MELD(Y,Yt,k,vec)\n",
    "            # calculate second moment matrices\n",
    "            myMELD.calM2()\n",
    "            myMELD.calM2_bar()\n",
    "            # ------------- first stage\n",
    "            # initialize weight matrices to identity\n",
    "            myMELD.initializeWeight_M2()\n",
    "            # perform first stage estimation\n",
    "            Result1 = myMELD.estimatePhiGrad_M2(S)\n",
    "            # extract phi from the result\n",
    "            phi1=Result1['PHI'][Result1['iter']]\n",
    "            # extract selected features in the test fold\n",
    "            test=test[vec]\n",
    "            # calculate GoM score\n",
    "            gscore=profile_class(test[1:],phi1[1:])\n",
    "            # calculate risk\n",
    "            risk=gscore[:,None]*np.transpose(phi1[0])\n",
    "            risk=np.sum(risk[:,1,:],axis=1)\n",
    "            gom_list.append(gscore[:,1])\n",
    "            # replace 0 with label \"-1\"\n",
    "            np.place(test[0],test[0]==0,[-1])\n",
    "            # calculate AUC\n",
    "            auc = roc_auc_score(test[0],risk)\n",
    "            auc_list.append(auc)\n",
    "        #calculate the mean AUC across kf folds\n",
    "        auc_new=np.mean(auc_list)\n",
    "        auc_list_outer.append(auc_new)\n",
    "        whole_gom_list.append(list(np.concatenate(gom_list)))\n",
    "        \n",
    "    auc_all=[]\n",
    "    vec_all=[]\n",
    "    gom_all=[]\n",
    "    while len(vec_list)>2:\n",
    "        vec_list_2=vec_list[np.argmax(auc_list_outer).astype(int)] \n",
    "        gom_list_2=whole_gom_list[np.argmax(auc_list_outer).astype(int)]\n",
    "        vec_all.append(vec_list_2)\n",
    "        gom_all.append(gom_list_2)\n",
    "        vec_list=[]\n",
    "        whole_gom_list=[]\n",
    "        #eliminate one feature at a time\n",
    "        for k in range(len(vec_list_2)-1):\n",
    "            integers=vec_list_2[:]\n",
    "            del integers[k+1]\n",
    "            vec_list.append(integers)\n",
    "\n",
    "        auc_list_outer=[] \n",
    "       \n",
    "        for j in range(len(vec_list)):\n",
    "            auc_list=[]\n",
    "            gom_list=[]\n",
    "            vec=vec_list[j]\n",
    "\n",
    "            for i in range(10):\n",
    "            \n",
    "                train=data[:,list(kf)[i][0]]\n",
    "    \n",
    "                test=data[:,list(kf)[i][1]]\n",
    "        \n",
    "                import MELD_87 as MELD\n",
    "                k=2\n",
    "                S=100\n",
    "\n",
    "                Y = train\n",
    "                (p,n) = Y.shape\n",
    "\n",
    "                Yt = np.array([0]*p)\n",
    "                Yt[0]=0\n",
    "                # create an object of MELD class\n",
    "                myMELD = MELD.MELD(Y,Yt,k,vec)\n",
    "\n",
    "                # calculate second moment matrices\n",
    "                myMELD.calM2()\n",
    "                myMELD.calM2_bar()\n",
    "\n",
    "                # ------------- first stage\n",
    "                # initialize weight matrices to identity\n",
    "                myMELD.initializeWeight_M2()\n",
    "\n",
    "                # perform first stage estimation\n",
    "                Result1 = myMELD.estimatePhiGrad_M2(S)\n",
    "                # extract phi from the result\n",
    "                phi1=Result1['PHI'][Result1['iter']]\n",
    "                # extract selected features from test fold\n",
    "                test=test[vec]\n",
    "                # calculate GoM score\n",
    "                gscore=profile_class(test[1:],phi1[1:])\n",
    "                # calculate risk\n",
    "                risk=gscore[:,None]*np.transpose(phi1[0])\n",
    "                risk=np.sum(risk[:,1,:],axis=1)\n",
    "                gom_list.append(gscore[:,1])\n",
    "                # replace 0 with label \"-1\"\n",
    "                np.place(test[0],test[0]==0,[-1])\n",
    "                # calculate AUC\n",
    "                auc = roc_auc_score(test[0],risk)\n",
    "                auc_list.append(auc)\n",
    "            # calculate average AUC across kf folds\n",
    "            auc_new=np.mean(auc_list)     \n",
    "            auc_list_outer.append(auc_new)\n",
    "            whole_gom_list.append(list(np.concatenate(gom_list)))\n",
    "              \n",
    "        \n",
    "        # selected the maximum AUC from a list of AUC's\n",
    "        auc_new_new=max(auc_list_outer)\n",
    "    \n",
    "        auc_all.append(auc_new_new)\n",
    "        \n",
    "        auc=np.max(auc_all)\n",
    "        \n",
    "        feature_selected=vec_all[np.argmax(auc_all)]\n",
    "        \n",
    "        gom=gom_all[np.argmax(auc_all)]\n",
    "    \n",
    "    return auc, feature_selected, gom\n"
   ]
  },
  {
   "cell_type": "code",
   "execution_count": 23,
   "metadata": {},
   "outputs": [
    {
     "data": {
      "text/plain": [
       "array(['rate', 'occup', 'arrival', 'goods', 'chainsaw', 'planter', 'Hhedu',\n",
       "       'Hhwedu', 'people', 'knowledge', 'dirtwater', 'bednet', 'DDT',\n",
       "       'protclot', 'insecticide', 'tea', 'parasite', 'daysout', 'region',\n",
       "       'pasture', 'cleared', 'planted', 'rooms', 'wall', 'roof', 'sealing',\n",
       "       'getwater', 'bath', 'topography', 'dforest', 'planstay',\n",
       "       'livedrural+1y', 'workedrural+1y', 'arrivRO', 'build',\n",
       "       'chickenpork', 'dcurral', 'banana', 'coffee', 'cocoa', 'guarana',\n",
       "       'rubber', 'Dist.neighb', '1000mRiver', '900mforest', 'Unico dono',\n",
       "       'dist-hosp', 'v101', 'v103', 'v333', 'v601', 'v602'], dtype=object)"
      ]
     },
     "execution_count": 23,
     "metadata": {},
     "output_type": "execute_result"
    }
   ],
   "source": [
    "names"
   ]
  },
  {
   "cell_type": "code",
   "execution_count": 26,
   "metadata": {
    "collapsed": true
   },
   "outputs": [],
   "source": [
    "envir=[0,19,20,21,22,23,24,25,26,27,28,29,36,37,38,39,40,41,42,43,44,46]\n",
    "behav=[0,1,2,3,4,5,6,7,8,9,10,11,12,13,14,15,16,17,18,30,31,32,33,34,35,45,47,48,49,50,51]"
   ]
  },
  {
   "cell_type": "code",
   "execution_count": 26,
   "metadata": {},
   "outputs": [
    {
     "name": "stderr",
     "output_type": "stream",
     "text": [
      "/Users/wsswemily/Desktop/SMELD/MELD_87.py:75: VisibleDeprecationWarning: using a non-integer number instead of an integer will result in an error in the future\n",
      "  Y_j = np.zeros((n,self.d[j]))\n",
      "/Users/wsswemily/Desktop/SMELD/MELD_87.py:77: VisibleDeprecationWarning: using a non-integer number instead of an integer will result in an error in the future\n",
      "  Y_j[i,Y[j,i]] = 1\n",
      "/Users/wsswemily/Desktop/SMELD/MELD_87.py:79: VisibleDeprecationWarning: using a non-integer number instead of an integer will result in an error in the future\n",
      "  self.Phi[j] = np.zeros((k,self.d[j]))\n",
      "/Users/wsswemily/Desktop/SMELD/MELD_87.py:80: VisibleDeprecationWarning: using a non-integer number instead of an integer will result in an error in the future\n",
      "  self.X[j] = np.zeros((k,self.d[j]))\n",
      "/Users/wsswemily/Desktop/SMELD/MELD_87.py:87: VisibleDeprecationWarning: using a non-integer number instead of an integer will result in an error in the future\n",
      "  self.Phi[j][h,:] = np.random.dirichlet([100.0]*self.d[j])\n",
      "/Users/wsswemily/Desktop/SMELD/MELD_87.py:100: VisibleDeprecationWarning: using a non-integer number instead of an integer will result in an error in the future\n",
      "  M1_j = np.zeros(self.d[j])\n",
      "/Applications/anaconda/lib/python3.5/site-packages/numpy/core/numeric.py:190: VisibleDeprecationWarning: using a non-integer number instead of an integer will result in an error in the future\n",
      "  a = empty(shape, dtype, order)\n",
      "/Users/wsswemily/Desktop/SMELD/MELD_87.py:341: VisibleDeprecationWarning: using a non-integer number instead of an integer will result in an error in the future\n",
      "  a2_jh = np.zeros(d[j])\n",
      "/Users/wsswemily/Desktop/SMELD/MELD_87.py:342: VisibleDeprecationWarning: using a non-integer number instead of an integer will result in an error in the future\n",
      "  b2_jh = np.zeros(d[j])\n",
      "/Users/wsswemily/Desktop/SMELD/MELD_87.py:385: VisibleDeprecationWarning: using a non-integer number instead of an integer will result in an error in the future\n",
      "  Phi_j = np.zeros((k,self.d[j]))\n"
     ]
    }
   ],
   "source": [
    "out_envir=MELD_Backward_features(data87, 10, envir)"
   ]
  },
  {
   "cell_type": "code",
   "execution_count": 27,
   "metadata": {},
   "outputs": [
    {
     "name": "stderr",
     "output_type": "stream",
     "text": [
      "/Users/wsswemily/Desktop/SMELD/MELD_87.py:75: VisibleDeprecationWarning: using a non-integer number instead of an integer will result in an error in the future\n",
      "  Y_j = np.zeros((n,self.d[j]))\n",
      "/Users/wsswemily/Desktop/SMELD/MELD_87.py:77: VisibleDeprecationWarning: using a non-integer number instead of an integer will result in an error in the future\n",
      "  Y_j[i,Y[j,i]] = 1\n",
      "/Users/wsswemily/Desktop/SMELD/MELD_87.py:79: VisibleDeprecationWarning: using a non-integer number instead of an integer will result in an error in the future\n",
      "  self.Phi[j] = np.zeros((k,self.d[j]))\n",
      "/Users/wsswemily/Desktop/SMELD/MELD_87.py:80: VisibleDeprecationWarning: using a non-integer number instead of an integer will result in an error in the future\n",
      "  self.X[j] = np.zeros((k,self.d[j]))\n",
      "/Users/wsswemily/Desktop/SMELD/MELD_87.py:87: VisibleDeprecationWarning: using a non-integer number instead of an integer will result in an error in the future\n",
      "  self.Phi[j][h,:] = np.random.dirichlet([100.0]*self.d[j])\n",
      "/Users/wsswemily/Desktop/SMELD/MELD_87.py:100: VisibleDeprecationWarning: using a non-integer number instead of an integer will result in an error in the future\n",
      "  M1_j = np.zeros(self.d[j])\n",
      "/Applications/anaconda/lib/python3.5/site-packages/numpy/core/numeric.py:190: VisibleDeprecationWarning: using a non-integer number instead of an integer will result in an error in the future\n",
      "  a = empty(shape, dtype, order)\n",
      "/Users/wsswemily/Desktop/SMELD/MELD_87.py:341: VisibleDeprecationWarning: using a non-integer number instead of an integer will result in an error in the future\n",
      "  a2_jh = np.zeros(d[j])\n",
      "/Users/wsswemily/Desktop/SMELD/MELD_87.py:342: VisibleDeprecationWarning: using a non-integer number instead of an integer will result in an error in the future\n",
      "  b2_jh = np.zeros(d[j])\n",
      "/Users/wsswemily/Desktop/SMELD/MELD_87.py:385: VisibleDeprecationWarning: using a non-integer number instead of an integer will result in an error in the future\n",
      "  Phi_j = np.zeros((k,self.d[j]))\n"
     ]
    }
   ],
   "source": [
    "out_behav=MELD_Backward_features(data87, 10, behav)"
   ]
  },
  {
   "cell_type": "code",
   "execution_count": 28,
   "metadata": {},
   "outputs": [
    {
     "data": {
      "text/plain": [
       "0.64153290147051445"
      ]
     },
     "execution_count": 28,
     "metadata": {},
     "output_type": "execute_result"
    }
   ],
   "source": [
    "out_envir[0]"
   ]
  },
  {
   "cell_type": "code",
   "execution_count": 29,
   "metadata": {},
   "outputs": [
    {
     "data": {
      "text/plain": [
       "array(['rate', 'rooms', 'topography', 'dcurral', 'banana', 'guarana',\n",
       "       '900mforest'], dtype=object)"
      ]
     },
     "execution_count": 29,
     "metadata": {},
     "output_type": "execute_result"
    }
   ],
   "source": [
    "names[out_envir[1]]"
   ]
  },
  {
   "cell_type": "code",
   "execution_count": 30,
   "metadata": {
    "collapsed": true
   },
   "outputs": [],
   "source": [
    "gom_envir=out_envir[2]"
   ]
  },
  {
   "cell_type": "code",
   "execution_count": 37,
   "metadata": {},
   "outputs": [
    {
     "data": {
      "text/plain": [
       "array(['rate', 'arrival', 'people', 'DDT', 'tea', 'parasite', 'daysout',\n",
       "       'planstay', 'chickenpork', 'v602'], dtype=object)"
      ]
     },
     "execution_count": 37,
     "metadata": {},
     "output_type": "execute_result"
    }
   ],
   "source": [
    "names[out_behav[1]]"
   ]
  },
  {
   "cell_type": "code",
   "execution_count": 32,
   "metadata": {},
   "outputs": [
    {
     "data": {
      "text/plain": [
       "0.75178926931962209"
      ]
     },
     "execution_count": 32,
     "metadata": {},
     "output_type": "execute_result"
    }
   ],
   "source": [
    "out_behav[0]"
   ]
  },
  {
   "cell_type": "code",
   "execution_count": 33,
   "metadata": {
    "collapsed": true
   },
   "outputs": [],
   "source": [
    "gom_behav=out_behav[2]"
   ]
  },
  {
   "cell_type": "code",
   "execution_count": 54,
   "metadata": {
    "collapsed": true
   },
   "outputs": [],
   "source": [
    "def plot_GOM(gom_envir, gom_behav):\n",
    "    fig = plt.figure(figsize=[8,5])\n",
    "    #Generate a list of unique points\n",
    "    points=list(set(zip(gom_behav,gom_envir))) \n",
    "    #Generate a list of point counts\n",
    "    count=[len([x for x,y in zip(gom_behav,gom_envir) if x==p[0] and y==p[1]]) for p in points]\n",
    "    #Now for the plotting:\n",
    "    plot_x=[i[0] for i in points]\n",
    "    plot_y=[i[1] for i in points]\n",
    "    count=np.array(count)\n",
    "    plt.scatter(plot_x,plot_y,c=count,s=100*count**0.5,cmap='Spectral_r')\n",
    "    plt.xlabel('Behavioral GoM Score')\n",
    "    plt.ylabel('Environmental GoM Score')\n",
    "    cbar=plt.colorbar()\n",
    "    cbar.set_label('Counts')\n",
    "    fig.suptitle('GoM Scores for the Machadinho data in 1987',fontsize=16)\n",
    "    plt.show()\n",
    "    fig.savefig('GOM87.pdf')"
   ]
  },
  {
   "cell_type": "code",
   "execution_count": 55,
   "metadata": {},
   "outputs": [
    {
     "data": {
      "image/png": "[encoded data removed]",
      "text/plain": [
       "<matplotlib.figure.Figure at 0x11aa43128>"
      ]
     },
     "metadata": {},
     "output_type": "display_data"
    }
   ],
   "source": [
    "plot_GOM(gom_envir,gom_behav)"
   ]
  },
  {
   "cell_type": "code",
   "execution_count": 8,
   "metadata": {},
   "outputs": [
    {
     "data": {
      "text/plain": [
       "(array([ 138.,   66.,   90.,   63.,  104.,   89.,   79.,   85.,   47.,   42.]),\n",
       " array([-2.30258509, -2.06279557, -1.82300604, -1.58321651, -1.34342698,\n",
       "        -1.10363746, -0.86384793, -0.6240584 , -0.38426887, -0.14447935,\n",
       "         0.09531018]),\n",
       " <a list of 10 Patch objects>)"
      ]
     },
     "execution_count": 8,
     "metadata": {},
     "output_type": "execute_result"
    },
    {
     "data": {
      "image/png": "[encoded data removed]",
      "text/plain": [
       "<matplotlib.figure.Figure at 0x1170c4358>"
      ]
     },
     "metadata": {},
     "output_type": "display_data"
    }
   ],
   "source": [
    "for i in range(1,data87.shape[1]):\n",
    "    data87.iloc[:,i]=data87.iloc[:,i].astype('category')\n",
    "cat_columns = data87.select_dtypes(['category']).columns\n",
    "data87[cat_columns] = data87[cat_columns].apply(lambda x: x.cat.codes)\n",
    "data87=np.array(data87)\n",
    "data87=np.transpose(data87)\n",
    "data87[0]=np.log(data87[0]+0.1)\n",
    "plt.hist(data87[0])"
   ]
  },
  {
   "cell_type": "code",
   "execution_count": 10,
   "metadata": {
    "collapsed": true
   },
   "outputs": [],
   "source": [
    "#turn rate into 0 or 1\n",
    "for i in range(data87.shape[1]):\n",
    "    if data87[0][i]<-2.06279557:\n",
    "        data87[0][i]=0\n",
    "    else:\n",
    "        data87[0][i]=1"
   ]
  },
  {
   "cell_type": "markdown",
   "metadata": {},
   "source": [
    "### Perform SVM for only environmental variables"
   ]
  },
  {
   "cell_type": "code",
   "execution_count": 11,
   "metadata": {},
   "outputs": [],
   "source": [
    "kf1=KFold(data87.shape[1],10,shuffle=False, random_state=111)\n",
    "from sklearn.svm import LinearSVC, SVC"
   ]
  },
  {
   "cell_type": "code",
   "execution_count": 16,
   "metadata": {},
   "outputs": [
    {
     "name": "stdout",
     "output_type": "stream",
     "text": [
      "AUC: 0.6697530864197531\n",
      "AUC: 0.6154929577464788\n",
      "AUC: 0.7051282051282052\n",
      "AUC: 0.6104910714285714\n",
      "AUC: 0.43707093821510296\n",
      "AUC: 0.522051282051282\n",
      "AUC: 0.05769230769230769\n",
      "AUC: 0.572857142857143\n",
      "AUC: 0.5375302663438256\n",
      "AUC: 0.595641646489104\n"
     ]
    }
   ],
   "source": [
    "auc_list_svm1=[]\n",
    "np.place(data87[0],data87[0]==0,-1)\n",
    "for i in range(10):\n",
    "    train=np.transpose(data87[envir][:,list(kf1)[i][0]])\n",
    "    \n",
    "    test=np.transpose(data87[envir][:,list(kf1)[i][1]])\n",
    "    \n",
    "    svmc=SVC(random_state=111,probability=True)\n",
    "    \n",
    "    svm=svmc.fit(train[:,1:],train[:,0])\n",
    "    \n",
    "    #use predicted probabilities to construct ROC curve and AUC score\n",
    "    soft_pred_svm = svm.predict_proba(test[:,1:])\n",
    "        \n",
    "    fpr_svm,tpr_svm,thresh_svm = roc_curve(test[:,0],soft_pred_svm[:,1])\n",
    "    \n",
    "    auc_svm=roc_auc_score(test[:,0],soft_pred_svm[:,1])\n",
    "                \n",
    "    auc_list_svm1.append(auc_svm)\n",
    "    \n",
    "    #plt.plot(fpr_svm,tpr_svm)\n",
    "        \n",
    "    #plt.plot([0,1],[0,1],\"r--\",alpha=.5)\n",
    "    \n",
    "    #plt.show()\n",
    "    print(\"AUC: {}\".format(auc_svm))"
   ]
  },
  {
   "cell_type": "code",
   "execution_count": 17,
   "metadata": {},
   "outputs": [
    {
     "data": {
      "text/plain": [
       "0.53237089043717734"
      ]
     },
     "execution_count": 17,
     "metadata": {},
     "output_type": "execute_result"
    }
   ],
   "source": [
    "np.mean(auc_list_svm1)"
   ]
  },
  {
   "cell_type": "markdown",
   "metadata": {},
   "source": [
    "### Perform SVM for only behavioral variables"
   ]
  },
  {
   "cell_type": "code",
   "execution_count": 14,
   "metadata": {},
   "outputs": [
    {
     "name": "stdout",
     "output_type": "stream",
     "text": [
      "AUC: 0.6959876543209877\n",
      "AUC: 0.7225352112676057\n",
      "AUC: 0.7692307692307692\n",
      "AUC: 0.7209821428571428\n",
      "AUC: 0.8138825324180015\n",
      "AUC: 0.8635897435897436\n",
      "AUC: 0.8397435897435898\n",
      "AUC: 0.66\n",
      "AUC: 0.7433414043583535\n",
      "AUC: 0.8652138821630346\n"
     ]
    }
   ],
   "source": [
    "auc_list_svm2=[]\n",
    "for i in range(10):\n",
    "    train=np.transpose(data87[behav][:,list(kf1)[i][0]])\n",
    "    \n",
    "    test=np.transpose(data87[behav][:,list(kf1)[i][1]])\n",
    "    \n",
    "    svmc=SVC(random_state=111,probability=True)\n",
    "    \n",
    "    svm=svmc.fit(train[:,1:],train[:,0])\n",
    "    \n",
    "    #use predicted probabilities to construct ROC curve and AUC score\n",
    "    soft_pred_svm = svm.predict_proba(test[:,1:])\n",
    "        \n",
    "    fpr_svm,tpr_svm,thresh_svm = roc_curve(test[:,0],soft_pred_svm[:,1])\n",
    "    \n",
    "    auc_svm=roc_auc_score(test[:,0],soft_pred_svm[:,1])\n",
    "                \n",
    "    auc_list_svm2.append(auc_svm)\n",
    "    \n",
    "    #plt.plot(fpr_svm,tpr_svm)\n",
    "        \n",
    "    #plt.plot([0,1],[0,1],\"r--\",alpha=.5)\n",
    "    \n",
    "    #plt.show()\n",
    "    print(\"AUC: {}\".format(auc_svm))"
   ]
  },
  {
   "cell_type": "code",
   "execution_count": 15,
   "metadata": {},
   "outputs": [
    {
     "data": {
      "text/plain": [
       "0.76945069299492297"
      ]
     },
     "execution_count": 15,
     "metadata": {},
     "output_type": "execute_result"
    }
   ],
   "source": [
    "np.mean(auc_list_svm2)"
   ]
  },
  {
   "cell_type": "code",
   "execution_count": 18,
   "metadata": {
    "collapsed": true
   },
   "outputs": [],
   "source": [
    "from sklearn.ensemble import RandomForestClassifier"
   ]
  },
  {
   "cell_type": "markdown",
   "metadata": {},
   "source": [
    "### Perform random forests for only environmental variables"
   ]
  },
  {
   "cell_type": "code",
   "execution_count": 19,
   "metadata": {},
   "outputs": [
    {
     "name": "stdout",
     "output_type": "stream",
     "text": [
      "AUC: 0.6242283950617284\n",
      "AUC: 0.4746478873239437\n",
      "AUC: 0.6495726495726495\n",
      "AUC: 0.4735863095238096\n",
      "AUC: 0.5255530129672006\n",
      "AUC: 0.4066666666666667\n",
      "AUC: 0.24358974358974356\n",
      "AUC: 0.5471428571428572\n",
      "AUC: 0.5391444713478611\n",
      "AUC: 0.5964487489911219\n"
     ]
    }
   ],
   "source": [
    "auc_list_rf1=[]\n",
    "for i in range(10):\n",
    "    train_4=np.transpose(data87[envir][:,list(kf1)[i][0]])\n",
    "    \n",
    "    test_4=np.transpose(data87[envir][:,list(kf1)[i][1]])\n",
    "    \n",
    "    RFC=RandomForestClassifier(random_state=111)\n",
    "    \n",
    "    rf=RFC.fit(train_4[:,1:],train_4[:,0])\n",
    "    \n",
    "    #use predicted probabilities to construct ROC curve and AUC score\n",
    "    soft_pred_rf = rf.predict_proba(test_4[:,1:])\n",
    "        \n",
    "    fpr_rf,tpr_rf,thresh_rf = roc_curve(test_4[:,0],soft_pred_rf[:,1])\n",
    "    \n",
    "    auc_rf=roc_auc_score(test_4[:,0],soft_pred_rf[:,1])\n",
    "                \n",
    "    auc_list_rf1.append(auc_rf)\n",
    "    \n",
    "    print(\"AUC: {}\".format(auc_rf))\n"
   ]
  },
  {
   "cell_type": "code",
   "execution_count": 20,
   "metadata": {},
   "outputs": [
    {
     "data": {
      "text/plain": [
       "0.50805807421875826"
      ]
     },
     "execution_count": 20,
     "metadata": {},
     "output_type": "execute_result"
    }
   ],
   "source": [
    "np.mean(auc_list_rf1)"
   ]
  },
  {
   "cell_type": "markdown",
   "metadata": {},
   "source": [
    "### Perform random forests for only behavioral variables"
   ]
  },
  {
   "cell_type": "code",
   "execution_count": 21,
   "metadata": {},
   "outputs": [
    {
     "name": "stdout",
     "output_type": "stream",
     "text": [
      "AUC: 0.7608024691358024\n",
      "AUC: 0.7802816901408451\n",
      "AUC: 0.49145299145299143\n",
      "AUC: 0.734375\n",
      "AUC: 0.7978642257818458\n",
      "AUC: 0.8548717948717949\n",
      "AUC: 0.7532051282051282\n",
      "AUC: 0.5707142857142857\n",
      "AUC: 0.7134786117836965\n",
      "AUC: 0.8349475383373689\n"
     ]
    }
   ],
   "source": [
    "auc_list_rf2=[]\n",
    "for i in range(10):\n",
    "    train_4=np.transpose(data87[behav][:,list(kf1)[i][0]])\n",
    "    \n",
    "    test_4=np.transpose(data87[behav][:,list(kf1)[i][1]])\n",
    "    \n",
    "    RFC=RandomForestClassifier(random_state=111)\n",
    "    \n",
    "    rf=RFC.fit(train_4[:,1:],train_4[:,0])\n",
    "    \n",
    "    #use predicted probabilities to construct ROC curve and AUC score\n",
    "    soft_pred_rf = rf.predict_proba(test_4[:,1:])\n",
    "        \n",
    "    fpr_rf,tpr_rf,thresh_rf = roc_curve(test_4[:,0],soft_pred_rf[:,1])\n",
    "    \n",
    "    auc_rf=roc_auc_score(test_4[:,0],soft_pred_rf[:,1])\n",
    "                \n",
    "    auc_list_rf2.append(auc_rf)\n",
    "    \n",
    "    print(\"AUC: {}\".format(auc_rf))\n"
   ]
  },
  {
   "cell_type": "code",
   "execution_count": 22,
   "metadata": {},
   "outputs": [
    {
     "data": {
      "text/plain": [
       "0.72919937354237596"
      ]
     },
     "execution_count": 22,
     "metadata": {},
     "output_type": "execute_result"
    }
   ],
   "source": [
    "np.mean(auc_list_rf2)"
   ]
  },
  {
   "cell_type": "code",
   "execution_count": 81,
   "metadata": {},
   "outputs": [
    {
     "name": "stderr",
     "output_type": "stream",
     "text": [
      "/Users/wsswemily/Desktop/SMELD/MELD_87.py:75: VisibleDeprecationWarning: using a non-integer number instead of an integer will result in an error in the future\n",
      "  Y_j = np.zeros((n,self.d[j]))\n",
      "/Users/wsswemily/Desktop/SMELD/MELD_87.py:77: VisibleDeprecationWarning: using a non-integer number instead of an integer will result in an error in the future\n",
      "  Y_j[i,Y[j,i]] = 1\n",
      "/Users/wsswemily/Desktop/SMELD/MELD_87.py:79: VisibleDeprecationWarning: using a non-integer number instead of an integer will result in an error in the future\n",
      "  self.Phi[j] = np.zeros((k,self.d[j]))\n",
      "/Users/wsswemily/Desktop/SMELD/MELD_87.py:80: VisibleDeprecationWarning: using a non-integer number instead of an integer will result in an error in the future\n",
      "  self.X[j] = np.zeros((k,self.d[j]))\n",
      "/Users/wsswemily/Desktop/SMELD/MELD_87.py:87: VisibleDeprecationWarning: using a non-integer number instead of an integer will result in an error in the future\n",
      "  self.Phi[j][h,:] = np.random.dirichlet([100.0]*self.d[j])\n",
      "/Users/wsswemily/Desktop/SMELD/MELD_87.py:100: VisibleDeprecationWarning: using a non-integer number instead of an integer will result in an error in the future\n",
      "  M1_j = np.zeros(self.d[j])\n",
      "/Applications/anaconda/lib/python3.5/site-packages/numpy/core/numeric.py:190: VisibleDeprecationWarning: using a non-integer number instead of an integer will result in an error in the future\n",
      "  a = empty(shape, dtype, order)\n",
      "/Users/wsswemily/Desktop/SMELD/MELD_87.py:341: VisibleDeprecationWarning: using a non-integer number instead of an integer will result in an error in the future\n",
      "  a2_jh = np.zeros(d[j])\n",
      "/Users/wsswemily/Desktop/SMELD/MELD_87.py:342: VisibleDeprecationWarning: using a non-integer number instead of an integer will result in an error in the future\n",
      "  b2_jh = np.zeros(d[j])\n",
      "/Users/wsswemily/Desktop/SMELD/MELD_87.py:385: VisibleDeprecationWarning: using a non-integer number instead of an integer will result in an error in the future\n",
      "  Phi_j = np.zeros((k,self.d[j]))\n"
     ]
    }
   ],
   "source": [
    "out_all=MELD_Backward_features(data87, 10, list(range(data87.shape[0])))"
   ]
  },
  {
   "cell_type": "code",
   "execution_count": 82,
   "metadata": {},
   "outputs": [
    {
     "data": {
      "text/plain": [
       "0.56767679596837772"
      ]
     },
     "execution_count": 82,
     "metadata": {},
     "output_type": "execute_result"
    }
   ],
   "source": [
    "out_all[0]"
   ]
  },
  {
   "cell_type": "code",
   "execution_count": 85,
   "metadata": {},
   "outputs": [
    {
     "data": {
      "text/plain": [
       "array(['rate', 'occup', 'Hhedu', 'dirtwater', 'region', 'planted', 'wall',\n",
       "       'topography', 'dforest', 'planstay', 'arrivRO', 'rubber',\n",
       "       'Unico dono', 'v101'], dtype=object)"
      ]
     },
     "execution_count": 85,
     "metadata": {},
     "output_type": "execute_result"
    }
   ],
   "source": [
    "names[out_all[1]]"
   ]
  },
  {
   "cell_type": "code",
   "execution_count": null,
   "metadata": {
    "collapsed": true
   },
   "outputs": [],
   "source": []
  }
 ],
 "metadata": {
  "anaconda-cloud": {},
  "kernelspec": {
   "display_name": "Python 3",
   "language": "python",
   "name": "python3"
  },
  "language_info": {
   "codemirror_mode": {
    "name": "ipython",
    "version": 3
   },
   "file_extension": ".py",
   "mimetype": "text/x-python",
   "name": "python",
   "nbconvert_exporter": "python",
   "pygments_lexer": "ipython3",
   "version": "3.6.1"
  }
 },
 "nbformat": 4,
 "nbformat_minor": 1
}
