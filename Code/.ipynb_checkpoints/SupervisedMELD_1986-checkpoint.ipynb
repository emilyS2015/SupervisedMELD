{
 "cells": [
  {
   "cell_type": "code",
   "execution_count": 1,
   "metadata": {},
   "outputs": [
    {
     "name": "stderr",
     "output_type": "stream",
     "text": [
      "/Applications/anaconda/lib/python3.5/site-packages/sklearn/cross_validation.py:44: DeprecationWarning: This module was deprecated in version 0.18 in favor of the model_selection module into which all the refactored classes and functions are moved. Also note that the interface of the new CV iterators are different from that of this module. This module will be removed in 0.20.\n",
      "  \"This module will be removed in 0.20.\", DeprecationWarning)\n"
     ]
    }
   ],
   "source": [
    "%matplotlib inline\n",
    "from sklearn.cross_validation import KFold\n",
    "from sklearn.metrics import roc_curve, roc_auc_score"
   ]
  },
  {
   "cell_type": "code",
   "execution_count": 2,
   "metadata": {},
   "outputs": [],
   "source": [
    "#data processing\n",
    "data86=pd.read_csv('/Users/wsswemily/Desktop/GOM/Amazon/machadinho_data_1986.csv')\n",
    "data86=data86.iloc[:576,:51]\n",
    "data86=data86.iloc[:,6:]\n",
    "names=data86.columns.values"
   ]
  },
  {
   "cell_type": "code",
   "execution_count": 3,
   "metadata": {},
   "outputs": [
    {
     "data": {
      "text/plain": [
       "(array([ 83.,  39.,  67.,  45.,  42.,  68.,  64.,  55.,  59.,  54.]),\n",
       " array([-2.30258509, -2.06279557, -1.82300604, -1.58321651, -1.34342698,\n",
       "        -1.10363746, -0.86384793, -0.6240584 , -0.38426887, -0.14447935,\n",
       "         0.09531018]),\n",
       " <a list of 10 Patch objects>)"
      ]
     },
     "execution_count": 3,
     "metadata": {},
     "output_type": "execute_result"
    },
    {
     "data": {
      "image/png": "[encoded data removed]",
      "text/plain": [
       "<matplotlib.figure.Figure at 0x1170855c0>"
      ]
     },
     "metadata": {},
     "output_type": "display_data"
    }
   ],
   "source": [
    "data86=np.array(np.transpose(data86))\n",
    "data86[0]=np.log(data86[0]+0.1)\n",
    "plt.hist(data86[0])"
   ]
  },
  {
   "cell_type": "code",
   "execution_count": 4,
   "metadata": {
    "collapsed": true
   },
   "outputs": [],
   "source": [
    "#turn rate into 0 or 1\n",
    "for i in range(data86.shape[1]):\n",
    "    if data86[0][i]<-2.06279557:\n",
    "        data86[0][i]=0\n",
    "    else:\n",
    "        data86[0][i]=1"
   ]
  },
  {
   "cell_type": "code",
   "execution_count": 5,
   "metadata": {
    "collapsed": true
   },
   "outputs": [],
   "source": [
    "def MELD_Backward_features(data, Numfolds, features):\n",
    "    \"\"\"This function performs supervised MELD and backward elimination algorithm\n",
    "        Input: a dataframe and number of folds\n",
    "        output: select maximum AUC and corresponding features \n",
    "        for every specific number of features  \n",
    "    \"\"\"\n",
    "    #divide data into kf cross validation folds\n",
    "    kf=KFold(data.shape[1],Numfolds,shuffle=False,random_state=111)\n",
    "    \n",
    "    def profile_class(data,phi):\n",
    "        \"\"\"This function calculates the GoM scores for each individual\n",
    "        Parameters:\n",
    "        Input: data and phi calculate from MELD\n",
    "           Output: GoM score\n",
    "        \"\"\"\n",
    "        score=np.zeros([data.shape[1],2])\n",
    "        profile=np.zeros([int(data.shape[0]),int(data.shape[1])])\n",
    "        for j in range(data.shape[1]):\n",
    "            for i in range(data.shape[0]):\n",
    "                yij=int(data[i,j])\n",
    "                #calculate M_ij\n",
    "                profile[i,j]=np.argmax(phi[i][:,yij])\n",
    "                if profile[i,j]==0:\n",
    "                    score[j,0]=score[j,0]+1\n",
    "                else:\n",
    "                    score[j,1]=score[j,1]+1\n",
    "            score[j,:]=(score[j,:]+0.1)/(phi.shape[0]+0.2)\n",
    "        return score\n",
    "    \n",
    "    #create a list of features\n",
    "    vec_list=[]\n",
    "    for j in range(len(features)-1):\n",
    "        integers=features[:]\n",
    "        del integers[j+1]\n",
    "        vec_list.append(integers)\n",
    "    \n",
    "    auc_list_outer=[]\n",
    "    whole_gom_list=[]\n",
    "    for j in range(len(vec_list)):\n",
    "        auc_list=[]\n",
    "        gom_list=[]\n",
    "        vec=vec_list[j]\n",
    "        for i in range(Numfolds):\n",
    "            train=data[:,list(kf)[i][0]]\n",
    "            test=data[:,list(kf)[i][1]]\n",
    "            import MELD_86 as MELD\n",
    "            k=2\n",
    "            S=100\n",
    "            Y = train\n",
    "            (p,n) = Y.shape\n",
    "            Yt = np.array([0]*p)\n",
    "            Yt[0]=0\n",
    "            # create an object of MELD class\n",
    "            myMELD = MELD.MELD(Y,Yt,k,vec)\n",
    "            # calculate second moment matrices\n",
    "            myMELD.calM2()\n",
    "            myMELD.calM2_bar()\n",
    "            # ------------- first stage\n",
    "            # initialize weight matrices to identity\n",
    "            myMELD.initializeWeight_M2()\n",
    "            # perform first stage estimation\n",
    "            Result1 = myMELD.estimatePhiGrad_M2(S)\n",
    "            # extract phi from the result\n",
    "            phi1=Result1['PHI'][Result1['iter']]\n",
    "            # extract selected features in the test fold\n",
    "            test=test[vec]\n",
    "            # calculate GoM score\n",
    "            gscore=profile_class(test[1:],phi1[1:])\n",
    "            # calculate risk\n",
    "            risk=gscore[:,None]*np.transpose(phi1[0])\n",
    "            risk=np.sum(risk[:,1,:],axis=1)\n",
    "            gom_list.append(gscore[:,1])\n",
    "            # replace 0 with label \"-1\"\n",
    "            np.place(test[0],test[0]==0,[-1])\n",
    "            # calculate AUC\n",
    "            auc = roc_auc_score(test[0],risk)\n",
    "            auc_list.append(auc)\n",
    "        #calculate the mean AUC across kf folds\n",
    "        auc_new=np.mean(auc_list)\n",
    "        auc_list_outer.append(auc_new)\n",
    "        whole_gom_list.append(list(np.concatenate(gom_list)))\n",
    "        \n",
    "    auc_all=[]\n",
    "    vec_all=[]\n",
    "    gom_all=[]\n",
    "    while len(vec_list)>2:\n",
    "        vec_list_2=vec_list[np.argmax(auc_list_outer).astype(int)] \n",
    "        gom_list_2=whole_gom_list[np.argmax(auc_list_outer).astype(int)]\n",
    "        vec_all.append(vec_list_2)\n",
    "        gom_all.append(gom_list_2)\n",
    "        vec_list=[]\n",
    "        whole_gom_list=[]\n",
    "        #eliminate one feature at a time\n",
    "        for k in range(len(vec_list_2)-1):\n",
    "            integers=vec_list_2[:]\n",
    "            del integers[k+1]\n",
    "            vec_list.append(integers)\n",
    "\n",
    "        auc_list_outer=[] \n",
    "       \n",
    "        for j in range(len(vec_list)):\n",
    "            auc_list=[]\n",
    "            gom_list=[]\n",
    "            vec=vec_list[j]\n",
    "\n",
    "            for i in range(10):\n",
    "            \n",
    "                train=data[:,list(kf)[i][0]]\n",
    "    \n",
    "                test=data[:,list(kf)[i][1]]\n",
    "        \n",
    "                import MELD_86 as MELD\n",
    "                k=2\n",
    "                S=100\n",
    "\n",
    "                Y = train\n",
    "                (p,n) = Y.shape\n",
    "\n",
    "                Yt = np.array([0]*p)\n",
    "                Yt[0]=0\n",
    "                # create an object of MELD class\n",
    "                myMELD = MELD.MELD(Y,Yt,k,vec)\n",
    "\n",
    "                # calculate second moment matrices\n",
    "                myMELD.calM2()\n",
    "                myMELD.calM2_bar()\n",
    "\n",
    "                # ------------- first stage\n",
    "                # initialize weight matrices to identity\n",
    "                myMELD.initializeWeight_M2()\n",
    "\n",
    "                # perform first stage estimation\n",
    "                Result1 = myMELD.estimatePhiGrad_M2(S)\n",
    "                # extract phi from the result\n",
    "                phi1=Result1['PHI'][Result1['iter']]\n",
    "                # extract selected features from test fold\n",
    "                test=test[vec]\n",
    "                # calculate GoM score\n",
    "                gscore=profile_class(test[1:],phi1[1:])\n",
    "                # calculate risk\n",
    "                risk=gscore[:,None]*np.transpose(phi1[0])\n",
    "                risk=np.sum(risk[:,1,:],axis=1)\n",
    "                gom_list.append(gscore[:,1])\n",
    "                # replace 0 with label \"-1\"\n",
    "                np.place(test[0],test[0]==0,[-1])\n",
    "                # calculate AUC\n",
    "                auc = roc_auc_score(test[0],risk)\n",
    "                auc_list.append(auc)\n",
    "            # calculate average AUC across kf folds\n",
    "            auc_new=np.mean(auc_list)     \n",
    "            auc_list_outer.append(auc_new)\n",
    "            whole_gom_list.append(list(np.concatenate(gom_list)))\n",
    "              \n",
    "        \n",
    "        # selected the maximum AUC from a list of AUC's\n",
    "        auc_new_new=max(auc_list_outer)\n",
    "    \n",
    "        auc_all.append(auc_new_new)\n",
    "        \n",
    "        auc=np.max(auc_all)\n",
    "        \n",
    "        feature_selected=vec_all[np.argmax(auc_all)]\n",
    "        \n",
    "        gom=gom_all[np.argmax(auc_all)]\n",
    "    \n",
    "    return auc, feature_selected, gom\n"
   ]
  },
  {
   "cell_type": "code",
   "execution_count": 6,
   "metadata": {},
   "outputs": [
    {
     "data": {
      "text/plain": [
       "array(['rate', 'arrival', 'goods', 'chainsaw', 'planter', 'Hhedu',\n",
       "       'Hhwedu', 'people', 'knowledge', 'dirtwater', 'DDT', 'insecticide',\n",
       "       'tea', 'region', 'pasture', 'cleared', 'planted', 'rooms', 'wall',\n",
       "       'roof', 'sealing', 'getwater', 'bath', 'topography', 'dforest',\n",
       "       'permwater', 'tempwater', 'build', 'arrivRO', 'chickenpork',\n",
       "       'daysout', 'coffee', 'cocoa', 'rubber', 'rice', 'Dist.neighb',\n",
       "       '900mforest', '1000mRiver', 'Unico dono', 'dist-hosp', 'occup',\n",
       "       'v101', 'v402', 'v403', 'v621'], dtype=object)"
      ]
     },
     "execution_count": 6,
     "metadata": {},
     "output_type": "execute_result"
    }
   ],
   "source": [
    "names"
   ]
  },
  {
   "cell_type": "code",
   "execution_count": 7,
   "metadata": {
    "collapsed": true
   },
   "outputs": [],
   "source": [
    "envir=[0,14,15,16,17,18,19,20,21,22,23,24,25,26,31,32,33,34,35,36,37,39]\n",
    "behav=[0,1,2,3,4,5,6,7,8,9,10,11,12,13,27,28,29,30,38,40,41,42,43,44]"
   ]
  },
  {
   "cell_type": "code",
   "execution_count": 8,
   "metadata": {},
   "outputs": [
    {
     "name": "stdout",
     "output_type": "stream",
     "text": [
      "['rate' 'pasture' 'cleared' 'planted' 'rooms' 'wall' 'roof' 'sealing'\n",
      " 'getwater' 'bath' 'topography' 'dforest' 'permwater' 'tempwater' 'coffee'\n",
      " 'cocoa' 'rubber' 'rice' 'Dist.neighb' '900mforest' '1000mRiver'\n",
      " 'dist-hosp']\n",
      "['rate' 'arrival' 'goods' 'chainsaw' 'planter' 'Hhedu' 'Hhwedu' 'people'\n",
      " 'knowledge' 'dirtwater' 'DDT' 'insecticide' 'tea' 'region' 'build'\n",
      " 'arrivRO' 'chickenpork' 'daysout' 'Unico dono' 'occup' 'v101' 'v402'\n",
      " 'v403' 'v621']\n"
     ]
    }
   ],
   "source": [
    "print(names[envir])\n",
    "print(names[behav])"
   ]
  },
  {
   "cell_type": "code",
   "execution_count": 9,
   "metadata": {},
   "outputs": [
    {
     "name": "stderr",
     "output_type": "stream",
     "text": [
      "/Users/wsswemily/Desktop/SMELD/MELD_86.py:71: VisibleDeprecationWarning: using a non-integer number instead of an integer will result in an error in the future\n",
      "  Y_j = np.zeros((n,self.d[j]))\n",
      "/Users/wsswemily/Desktop/SMELD/MELD_86.py:73: VisibleDeprecationWarning: using a non-integer number instead of an integer will result in an error in the future\n",
      "  Y_j[i,Y[j,i]] = 1\n",
      "/Users/wsswemily/Desktop/SMELD/MELD_86.py:75: VisibleDeprecationWarning: using a non-integer number instead of an integer will result in an error in the future\n",
      "  self.Phi[j] = np.zeros((k,self.d[j]))\n",
      "/Users/wsswemily/Desktop/SMELD/MELD_86.py:76: VisibleDeprecationWarning: using a non-integer number instead of an integer will result in an error in the future\n",
      "  self.X[j] = np.zeros((k,self.d[j]))\n",
      "/Users/wsswemily/Desktop/SMELD/MELD_86.py:83: VisibleDeprecationWarning: using a non-integer number instead of an integer will result in an error in the future\n",
      "  self.Phi[j][h,:] = np.random.dirichlet([100.0]*self.d[j])\n",
      "/Users/wsswemily/Desktop/SMELD/MELD_86.py:96: VisibleDeprecationWarning: using a non-integer number instead of an integer will result in an error in the future\n",
      "  M1_j = np.zeros(self.d[j])\n",
      "/Applications/anaconda/lib/python3.5/site-packages/numpy/core/numeric.py:190: VisibleDeprecationWarning: using a non-integer number instead of an integer will result in an error in the future\n",
      "  a = empty(shape, dtype, order)\n",
      "/Users/wsswemily/Desktop/SMELD/MELD_86.py:337: VisibleDeprecationWarning: using a non-integer number instead of an integer will result in an error in the future\n",
      "  a2_jh = np.zeros(d[j])\n",
      "/Users/wsswemily/Desktop/SMELD/MELD_86.py:338: VisibleDeprecationWarning: using a non-integer number instead of an integer will result in an error in the future\n",
      "  b2_jh = np.zeros(d[j])\n",
      "/Users/wsswemily/Desktop/SMELD/MELD_86.py:381: VisibleDeprecationWarning: using a non-integer number instead of an integer will result in an error in the future\n",
      "  Phi_j = np.zeros((k,self.d[j]))\n"
     ]
    }
   ],
   "source": [
    "out_envir=MELD_Backward_features(data86, 10, envir)"
   ]
  },
  {
   "cell_type": "code",
   "execution_count": 10,
   "metadata": {},
   "outputs": [
    {
     "name": "stderr",
     "output_type": "stream",
     "text": [
      "/Users/wsswemily/Desktop/SMELD/MELD_86.py:71: VisibleDeprecationWarning: using a non-integer number instead of an integer will result in an error in the future\n",
      "  Y_j = np.zeros((n,self.d[j]))\n",
      "/Users/wsswemily/Desktop/SMELD/MELD_86.py:73: VisibleDeprecationWarning: using a non-integer number instead of an integer will result in an error in the future\n",
      "  Y_j[i,Y[j,i]] = 1\n",
      "/Users/wsswemily/Desktop/SMELD/MELD_86.py:75: VisibleDeprecationWarning: using a non-integer number instead of an integer will result in an error in the future\n",
      "  self.Phi[j] = np.zeros((k,self.d[j]))\n",
      "/Users/wsswemily/Desktop/SMELD/MELD_86.py:76: VisibleDeprecationWarning: using a non-integer number instead of an integer will result in an error in the future\n",
      "  self.X[j] = np.zeros((k,self.d[j]))\n",
      "/Users/wsswemily/Desktop/SMELD/MELD_86.py:83: VisibleDeprecationWarning: using a non-integer number instead of an integer will result in an error in the future\n",
      "  self.Phi[j][h,:] = np.random.dirichlet([100.0]*self.d[j])\n",
      "/Users/wsswemily/Desktop/SMELD/MELD_86.py:96: VisibleDeprecationWarning: using a non-integer number instead of an integer will result in an error in the future\n",
      "  M1_j = np.zeros(self.d[j])\n",
      "/Applications/anaconda/lib/python3.5/site-packages/numpy/core/numeric.py:190: VisibleDeprecationWarning: using a non-integer number instead of an integer will result in an error in the future\n",
      "  a = empty(shape, dtype, order)\n",
      "/Users/wsswemily/Desktop/SMELD/MELD_86.py:337: VisibleDeprecationWarning: using a non-integer number instead of an integer will result in an error in the future\n",
      "  a2_jh = np.zeros(d[j])\n",
      "/Users/wsswemily/Desktop/SMELD/MELD_86.py:338: VisibleDeprecationWarning: using a non-integer number instead of an integer will result in an error in the future\n",
      "  b2_jh = np.zeros(d[j])\n",
      "/Users/wsswemily/Desktop/SMELD/MELD_86.py:381: VisibleDeprecationWarning: using a non-integer number instead of an integer will result in an error in the future\n",
      "  Phi_j = np.zeros((k,self.d[j]))\n"
     ]
    }
   ],
   "source": [
    "out_behav=MELD_Backward_features(data86, 10, behav)"
   ]
  },
  {
   "cell_type": "code",
   "execution_count": 11,
   "metadata": {},
   "outputs": [
    {
     "data": {
      "text/plain": [
       "0.64658497426936345"
      ]
     },
     "execution_count": 11,
     "metadata": {},
     "output_type": "execute_result"
    }
   ],
   "source": [
    "out_envir[0]"
   ]
  },
  {
   "cell_type": "code",
   "execution_count": 12,
   "metadata": {},
   "outputs": [
    {
     "data": {
      "text/plain": [
       "array(['rate', 'planted', 'coffee', 'rice'], dtype=object)"
      ]
     },
     "execution_count": 12,
     "metadata": {},
     "output_type": "execute_result"
    }
   ],
   "source": [
    "names[out_envir[1]]"
   ]
  },
  {
   "cell_type": "code",
   "execution_count": 13,
   "metadata": {},
   "outputs": [],
   "source": [
    "gom_envir=out_envir[2]"
   ]
  },
  {
   "cell_type": "code",
   "execution_count": 14,
   "metadata": {},
   "outputs": [
    {
     "data": {
      "text/plain": [
       "array(['rate', 'arrival', 'planter', 'arrivRO', 'daysout'], dtype=object)"
      ]
     },
     "execution_count": 14,
     "metadata": {},
     "output_type": "execute_result"
    }
   ],
   "source": [
    "names[out_behav[1]]"
   ]
  },
  {
   "cell_type": "code",
   "execution_count": 15,
   "metadata": {},
   "outputs": [
    {
     "data": {
      "text/plain": [
       "0.82607360841146682"
      ]
     },
     "execution_count": 15,
     "metadata": {},
     "output_type": "execute_result"
    }
   ],
   "source": [
    "out_behav[0]"
   ]
  },
  {
   "cell_type": "code",
   "execution_count": 16,
   "metadata": {
    "collapsed": true
   },
   "outputs": [],
   "source": [
    "gom_behav=out_behav[2]"
   ]
  },
  {
   "cell_type": "code",
   "execution_count": 27,
   "metadata": {
    "collapsed": true
   },
   "outputs": [],
   "source": [
    "def plot_GOM(gom_envir, gom_behav):\n",
    "    \"\"\"This function plot environmental GoM score vs. behavioral GoM score\n",
    "    \"\"\"\n",
    "    fig = plt.figure(figsize=[8,5])\n",
    "    #Generate a list of unique points\n",
    "    points=list(set(zip(gom_behav,gom_envir))) \n",
    "    #Generate a list of point counts\n",
    "    count=[len([x for x,y in zip(gom_behav,gom_envir) if x==p[0] and y==p[1]]) for p in points]\n",
    "    #Now for the plotting:\n",
    "    plot_x=[i[0] for i in points]\n",
    "    plot_y=[i[1] for i in points]\n",
    "    count=np.array(count)\n",
    "    plt.scatter(plot_x,plot_y,c=count,s=100*count**0.5,cmap='Spectral_r')\n",
    "    plt.xlabel('Behavioral GoM Score')\n",
    "    plt.ylabel('Environmental GoM Score')\n",
    "    cbar=plt.colorbar()\n",
    "    cbar.set_label('Counts')\n",
    "    fig.suptitle('GoM Scores for the Machadinho data in 1986',fontsize=16)\n",
    "    plt.show()\n",
    "    fig.savefig('GOM86.pdf')"
   ]
  },
  {
   "cell_type": "code",
   "execution_count": 28,
   "metadata": {},
   "outputs": [
    {
     "data": {
      "image/png": "[encoded data removed]",
      "text/plain": [
       "<matplotlib.figure.Figure at 0x11ae050f0>"
      ]
     },
     "metadata": {},
     "output_type": "display_data"
    }
   ],
   "source": [
    "plot_GOM(gom_envir,gom_behav)"
   ]
  },
  {
   "cell_type": "code",
   "execution_count": 3,
   "metadata": {},
   "outputs": [
    {
     "data": {
      "text/plain": [
       "(array([ 83.,  39.,  67.,  45.,  42.,  68.,  64.,  55.,  59.,  54.]),\n",
       " array([-2.30258509, -2.06279557, -1.82300604, -1.58321651, -1.34342698,\n",
       "        -1.10363746, -0.86384793, -0.6240584 , -0.38426887, -0.14447935,\n",
       "         0.09531018]),\n",
       " <a list of 10 Patch objects>)"
      ]
     },
     "execution_count": 3,
     "metadata": {},
     "output_type": "execute_result"
    },
    {
     "data": {
      "image/png": "[encoded data removed]",
      "text/plain": [
       "<matplotlib.figure.Figure at 0x11709df60>"
      ]
     },
     "metadata": {},
     "output_type": "display_data"
    }
   ],
   "source": [
    "#convert data into categorical\n",
    "for i in range(1,data86.shape[1]):\n",
    "    data86.iloc[:,i]=data86.iloc[:,i].astype('category')\n",
    "cat_columns = data86.select_dtypes(['category']).columns\n",
    "data86[cat_columns] = data86[cat_columns].apply(lambda x: x.cat.codes)\n",
    "data86=np.array(data86)\n",
    "data86=np.transpose(data86)\n",
    "data86[0]=np.log(data86[0]+0.1)\n",
    "plt.hist(data86[0])\n"
   ]
  },
  {
   "cell_type": "code",
   "execution_count": 4,
   "metadata": {
    "collapsed": true
   },
   "outputs": [],
   "source": [
    "#turn rate into 0 or 1\n",
    "for i in range(data86.shape[1]):\n",
    "    if data86[0][i]<-2.06279557:\n",
    "        data86[0][i]=0\n",
    "    else:\n",
    "        data86[0][i]=1"
   ]
  },
  {
   "cell_type": "code",
   "execution_count": 5,
   "metadata": {},
   "outputs": [],
   "source": [
    "kf1=KFold(data86.shape[1],10,shuffle=False, random_state=111)\n",
    "from sklearn.svm import LinearSVC, SVC"
   ]
  },
  {
   "cell_type": "markdown",
   "metadata": {},
   "source": [
    "### Perform SVM only for environmental variables"
   ]
  },
  {
   "cell_type": "code",
   "execution_count": 8,
   "metadata": {},
   "outputs": [
    {
     "name": "stdout",
     "output_type": "stream",
     "text": [
      "AUC: 0.6020408163265307\n",
      "AUC: 0.8421052631578947\n",
      "AUC: 0.6375000000000001\n",
      "AUC: 0.7724358974358975\n",
      "AUC: 0.5406162464985994\n",
      "AUC: 0.6541666666666667\n",
      "AUC: 0.5548172757475083\n",
      "AUC: 0.7800925925925926\n",
      "AUC: 0.6723404255319149\n",
      "AUC: 0.5771428571428572\n"
     ]
    }
   ],
   "source": [
    "auc_list_svm1=[]\n",
    "np.place(data86[0],data86[0]==0,-1)\n",
    "for i in range(10):\n",
    "    train=np.transpose(data86[envir][:,list(kf1)[i][0]])\n",
    "    \n",
    "    test=np.transpose(data86[envir][:,list(kf1)[i][1]])\n",
    "    \n",
    "    svmc=SVC(random_state=111,probability=True)\n",
    "    \n",
    "    svm=svmc.fit(train[:,1:],train[:,0])\n",
    "    \n",
    "    #use predicted probabilities to construct ROC curve and AUC score\n",
    "    soft_pred_svm = svm.predict_proba(test[:,1:])\n",
    "        \n",
    "    fpr_svm,tpr_svm,thresh_svm = roc_curve(test[:,0],soft_pred_svm[:,1])\n",
    "    \n",
    "    auc_svm=roc_auc_score(test[:,0],soft_pred_svm[:,1])\n",
    "                \n",
    "    auc_list_svm1.append(auc_svm)\n",
    "    \n",
    "    #plt.plot(fpr_svm,tpr_svm)\n",
    "        \n",
    "    #plt.plot([0,1],[0,1],\"r--\",alpha=.5)\n",
    "    \n",
    "    #plt.show()\n",
    "    print(\"AUC: {}\".format(auc_svm))"
   ]
  },
  {
   "cell_type": "code",
   "execution_count": 9,
   "metadata": {},
   "outputs": [
    {
     "data": {
      "text/plain": [
       "0.66332580411004627"
      ]
     },
     "execution_count": 9,
     "metadata": {},
     "output_type": "execute_result"
    }
   ],
   "source": [
    "np.mean(auc_list_svm1)"
   ]
  },
  {
   "cell_type": "markdown",
   "metadata": {},
   "source": [
    "### Perform SVM only for behavioral variables"
   ]
  },
  {
   "cell_type": "code",
   "execution_count": 10,
   "metadata": {},
   "outputs": [
    {
     "name": "stdout",
     "output_type": "stream",
     "text": [
      "AUC: 0.8049886621315192\n",
      "AUC: 0.9122807017543859\n",
      "AUC: 0.8333333333333334\n",
      "AUC: 0.717948717948718\n",
      "AUC: 0.8907563025210083\n",
      "AUC: 0.8270833333333334\n",
      "AUC: 0.9302325581395349\n",
      "AUC: 0.9328703703703703\n",
      "AUC: 0.9361702127659575\n",
      "AUC: 0.9342857142857143\n"
     ]
    }
   ],
   "source": [
    "auc_list_svm2=[]\n",
    "for i in range(10):\n",
    "    train=np.transpose(data86[behav][:,list(kf1)[i][0]])\n",
    "    \n",
    "    test=np.transpose(data86[behav][:,list(kf1)[i][1]])\n",
    "    \n",
    "    svmc=SVC(random_state=111,probability=True)\n",
    "    \n",
    "    svm=svmc.fit(train[:,1:],train[:,0])\n",
    "    \n",
    "    #use predicted probabilities to construct ROC curve and AUC score\n",
    "    soft_pred_svm = svm.predict_proba(test[:,1:])\n",
    "        \n",
    "    fpr_svm,tpr_svm,thresh_svm = roc_curve(test[:,0],soft_pred_svm[:,1])\n",
    "    \n",
    "    auc_svm=roc_auc_score(test[:,0],soft_pred_svm[:,1])\n",
    "                \n",
    "    auc_list_svm2.append(auc_svm)\n",
    "    \n",
    "    #plt.plot(fpr_svm,tpr_svm)\n",
    "        \n",
    "    #plt.plot([0,1],[0,1],\"r--\",alpha=.5)\n",
    "    \n",
    "    #plt.show()\n",
    "    print(\"AUC: {}\".format(auc_svm))"
   ]
  },
  {
   "cell_type": "code",
   "execution_count": 11,
   "metadata": {},
   "outputs": [
    {
     "data": {
      "text/plain": [
       "0.87199499065838759"
      ]
     },
     "execution_count": 11,
     "metadata": {},
     "output_type": "execute_result"
    }
   ],
   "source": [
    "np.mean(auc_list_svm2)"
   ]
  },
  {
   "cell_type": "code",
   "execution_count": 12,
   "metadata": {},
   "outputs": [],
   "source": [
    "from sklearn.ensemble import RandomForestClassifier"
   ]
  },
  {
   "cell_type": "markdown",
   "metadata": {},
   "source": [
    "### Perform random forests for only environmental variables"
   ]
  },
  {
   "cell_type": "code",
   "execution_count": 13,
   "metadata": {},
   "outputs": [
    {
     "name": "stdout",
     "output_type": "stream",
     "text": [
      "AUC: 0.5986394557823129\n",
      "AUC: 0.6491228070175439\n",
      "AUC: 0.6791666666666667\n",
      "AUC: 0.8349358974358975\n",
      "AUC: 0.6372549019607844\n",
      "AUC: 0.5760416666666668\n",
      "AUC: 0.5049833887043189\n",
      "AUC: 0.7048611111111112\n",
      "AUC: 0.4595744680851063\n",
      "AUC: 0.4971428571428571\n"
     ]
    }
   ],
   "source": [
    "auc_list_rf1=[]\n",
    "for i in range(10):\n",
    "    train_4=np.transpose(data86[envir][:,list(kf1)[i][0]])\n",
    "    \n",
    "    test_4=np.transpose(data86[envir][:,list(kf1)[i][1]])\n",
    "    \n",
    "    RFC=RandomForestClassifier(random_state=111)\n",
    "    \n",
    "    rf=RFC.fit(train_4[:,1:],train_4[:,0])\n",
    "    \n",
    "    #use predicted probabilities to construct ROC curve and AUC score\n",
    "    soft_pred_rf = rf.predict_proba(test_4[:,1:])\n",
    "        \n",
    "    fpr_rf,tpr_rf,thresh_rf = roc_curve(test_4[:,0],soft_pred_rf[:,1])\n",
    "    \n",
    "    auc_rf=roc_auc_score(test_4[:,0],soft_pred_rf[:,1])\n",
    "                \n",
    "    auc_list_rf1.append(auc_rf)\n",
    "    \n",
    "    print(\"AUC: {}\".format(auc_rf))\n"
   ]
  },
  {
   "cell_type": "code",
   "execution_count": 14,
   "metadata": {},
   "outputs": [
    {
     "data": {
      "text/plain": [
       "0.61417232205732664"
      ]
     },
     "execution_count": 14,
     "metadata": {},
     "output_type": "execute_result"
    }
   ],
   "source": [
    "np.mean(auc_list_rf1)"
   ]
  },
  {
   "cell_type": "markdown",
   "metadata": {},
   "source": [
    "### Perform random forests for only behavioral variables"
   ]
  },
  {
   "cell_type": "code",
   "execution_count": 15,
   "metadata": {},
   "outputs": [
    {
     "name": "stdout",
     "output_type": "stream",
     "text": [
      "AUC: 0.7630385487528346\n",
      "AUC: 0.8947368421052632\n",
      "AUC: 0.7520833333333333\n",
      "AUC: 0.7788461538461539\n",
      "AUC: 0.8417366946778712\n",
      "AUC: 0.7010416666666666\n",
      "AUC: 0.9518272425249169\n",
      "AUC: 0.8784722222222222\n",
      "AUC: 0.8170212765957446\n",
      "AUC: 0.9628571428571427\n"
     ]
    }
   ],
   "source": [
    "auc_list_rf2=[]\n",
    "for i in range(10):\n",
    "    train_4=np.transpose(data86[behav][:,list(kf1)[i][0]])\n",
    "    \n",
    "    test_4=np.transpose(data86[behav][:,list(kf1)[i][1]])\n",
    "    \n",
    "    RFC=RandomForestClassifier(random_state=111)\n",
    "    \n",
    "    rf=RFC.fit(train_4[:,1:],train_4[:,0])\n",
    "    \n",
    "    #use predicted probabilities to construct ROC curve and AUC score\n",
    "    soft_pred_rf = rf.predict_proba(test_4[:,1:])\n",
    "        \n",
    "    fpr_rf,tpr_rf,thresh_rf = roc_curve(test_4[:,0],soft_pred_rf[:,1])\n",
    "    \n",
    "    auc_rf=roc_auc_score(test_4[:,0],soft_pred_rf[:,1])\n",
    "                \n",
    "    auc_list_rf2.append(auc_rf)\n",
    "    \n",
    "    print(\"AUC: {}\".format(auc_rf))\n"
   ]
  },
  {
   "cell_type": "code",
   "execution_count": 16,
   "metadata": {},
   "outputs": [
    {
     "data": {
      "text/plain": [
       "0.83416611235821514"
      ]
     },
     "execution_count": 16,
     "metadata": {},
     "output_type": "execute_result"
    }
   ],
   "source": [
    "np.mean(auc_list_rf2)"
   ]
  },
  {
   "cell_type": "code",
   "execution_count": 54,
   "metadata": {},
   "outputs": [
    {
     "name": "stderr",
     "output_type": "stream",
     "text": [
      "/Users/wsswemily/Desktop/SMELD/MELD_86.py:71: VisibleDeprecationWarning: using a non-integer number instead of an integer will result in an error in the future\n",
      "  Y_j = np.zeros((n,self.d[j]))\n",
      "/Users/wsswemily/Desktop/SMELD/MELD_86.py:73: VisibleDeprecationWarning: using a non-integer number instead of an integer will result in an error in the future\n",
      "  Y_j[i,Y[j,i]] = 1\n",
      "/Users/wsswemily/Desktop/SMELD/MELD_86.py:75: VisibleDeprecationWarning: using a non-integer number instead of an integer will result in an error in the future\n",
      "  self.Phi[j] = np.zeros((k,self.d[j]))\n",
      "/Users/wsswemily/Desktop/SMELD/MELD_86.py:76: VisibleDeprecationWarning: using a non-integer number instead of an integer will result in an error in the future\n",
      "  self.X[j] = np.zeros((k,self.d[j]))\n",
      "/Users/wsswemily/Desktop/SMELD/MELD_86.py:83: VisibleDeprecationWarning: using a non-integer number instead of an integer will result in an error in the future\n",
      "  self.Phi[j][h,:] = np.random.dirichlet([100.0]*self.d[j])\n",
      "/Users/wsswemily/Desktop/SMELD/MELD_86.py:96: VisibleDeprecationWarning: using a non-integer number instead of an integer will result in an error in the future\n",
      "  M1_j = np.zeros(self.d[j])\n",
      "/Applications/anaconda/lib/python3.5/site-packages/numpy/core/numeric.py:190: VisibleDeprecationWarning: using a non-integer number instead of an integer will result in an error in the future\n",
      "  a = empty(shape, dtype, order)\n",
      "/Users/wsswemily/Desktop/SMELD/MELD_86.py:337: VisibleDeprecationWarning: using a non-integer number instead of an integer will result in an error in the future\n",
      "  a2_jh = np.zeros(d[j])\n",
      "/Users/wsswemily/Desktop/SMELD/MELD_86.py:338: VisibleDeprecationWarning: using a non-integer number instead of an integer will result in an error in the future\n",
      "  b2_jh = np.zeros(d[j])\n",
      "/Users/wsswemily/Desktop/SMELD/MELD_86.py:381: VisibleDeprecationWarning: using a non-integer number instead of an integer will result in an error in the future\n",
      "  Phi_j = np.zeros((k,self.d[j]))\n"
     ]
    }
   ],
   "source": [
    "out_all=MELD_Backward_features(data86, 10, list(range(data86.shape[0])))"
   ]
  },
  {
   "cell_type": "code",
   "execution_count": 60,
   "metadata": {},
   "outputs": [
    {
     "data": {
      "text/plain": [
       "array(['rate', 'goods', 'chainsaw', 'dirtwater', 'insecticide', 'region',\n",
       "       'wall', 'roof', 'tempwater', 'arrivRO', '1000mRiver', 'v101'], dtype=object)"
      ]
     },
     "execution_count": 60,
     "metadata": {},
     "output_type": "execute_result"
    }
   ],
   "source": [
    "names[out_all[1]]"
   ]
  },
  {
   "cell_type": "code",
   "execution_count": 59,
   "metadata": {},
   "outputs": [
    {
     "data": {
      "text/plain": [
       "0.62778687731957006"
      ]
     },
     "execution_count": 59,
     "metadata": {},
     "output_type": "execute_result"
    }
   ],
   "source": [
    "out_all[0]"
   ]
  },
  {
   "cell_type": "code",
   "execution_count": null,
   "metadata": {
    "collapsed": true
   },
   "outputs": [],
   "source": []
  }
 ],
 "metadata": {
  "anaconda-cloud": {},
  "kernelspec": {
   "display_name": "Python 3",
   "language": "python",
   "name": "python3"
  },
  "language_info": {
   "codemirror_mode": {
    "name": "ipython",
    "version": 3
   },
   "file_extension": ".py",
   "mimetype": "text/x-python",
   "name": "python",
   "nbconvert_exporter": "python",
   "pygments_lexer": "ipython3",
   "version": "3.6.1"
  }
 },
 "nbformat": 4,
 "nbformat_minor": 1
}
