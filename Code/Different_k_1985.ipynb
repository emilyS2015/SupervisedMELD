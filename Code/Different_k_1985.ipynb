{
 "cells": [
  {
   "cell_type": "code",
   "execution_count": 1,
   "metadata": {},
   "outputs": [
    {
     "name": "stderr",
     "output_type": "stream",
     "text": [
      "/Applications/anaconda/lib/python3.5/site-packages/sklearn/cross_validation.py:44: DeprecationWarning: This module was deprecated in version 0.18 in favor of the model_selection module into which all the refactored classes and functions are moved. Also note that the interface of the new CV iterators are different from that of this module. This module will be removed in 0.20.\n",
      "  \"This module will be removed in 0.20.\", DeprecationWarning)\n"
     ]
    }
   ],
   "source": [
    "%matplotlib inline\n",
    "from sklearn.cross_validation import KFold\n",
    "from sklearn.metrics import roc_curve, roc_auc_score"
   ]
  },
  {
   "cell_type": "code",
   "execution_count": 2,
   "metadata": {},
   "outputs": [
    {
     "data": {
      "text/plain": [
       "array(['rate', 'arrival', 'goods', 'chainsaw', 'planter', 'Hhedu',\n",
       "       'Hhwedu', 'people', 'knowledge', 'dirtwater', 'bednet', 'repellent',\n",
       "       'insecticide', 'shouldDDT', 'arrivRO', 'region', 'chickenpork',\n",
       "       'build', 'rooms', 'wall', 'roof', 'sealing', 'DDT', 'getwater',\n",
       "       'bath', 'dforest', 'driver', 'dculvert', 'dother', 'tea', 'cleared',\n",
       "       'coffee', 'cocoa', 'rubber', 'cassava', 'lavoubranca',\n",
       "       'Dist.neighb', '900mforest', '1000mRiver', 'Unico dono',\n",
       "       'dist-hosp', 'v101', 'v104', 'v510', 'v520', 'v521', 'v621', 'v403',\n",
       "       'occup', 'Areas85'], dtype=object)"
      ]
     },
     "execution_count": 2,
     "metadata": {},
     "output_type": "execute_result"
    }
   ],
   "source": [
    "#read in the 1985 dataset\n",
    "data85=pd.read_csv('/Users/wsswemily/Desktop/GOM/Amazon/machadinho_data_1985.csv')\n",
    "data85=data85.iloc[:269,:56]\n",
    "names=data85.columns.values[6:]\n",
    "names"
   ]
  },
  {
   "cell_type": "code",
   "execution_count": 3,
   "metadata": {},
   "outputs": [
    {
     "data": {
      "text/plain": [
       "(array([ 113.,    9.,   20.,   22.,   22.,   20.,   20.,   16.,   10.,   17.]),\n",
       " array([-2.30258509, -2.06279557, -1.82300604, -1.58321651, -1.34342698,\n",
       "        -1.10363746, -0.86384793, -0.6240584 , -0.38426887, -0.14447935,\n",
       "         0.09531018]),\n",
       " <a list of 10 Patch objects>)"
      ]
     },
     "execution_count": 3,
     "metadata": {},
     "output_type": "execute_result"
    },
    {
     "data": {
      "image/png": "[encoded data removed]",
      "text/plain": [
       "<matplotlib.figure.Figure at 0x117106f98>"
      ]
     },
     "metadata": {},
     "output_type": "display_data"
    }
   ],
   "source": [
    "data85=data85.iloc[:,6:] #include the rate\n",
    "data85=data85.iloc[:,:49] #exclude Areas85\n",
    "data85=np.array(np.transpose(data85))\n",
    "data85[0]=np.log(data85[0]+0.1)\n",
    "plt.hist(data85[0])"
   ]
  },
  {
   "cell_type": "code",
   "execution_count": 4,
   "metadata": {
    "collapsed": true
   },
   "outputs": [],
   "source": [
    "#turn rate into 0 or 1\n",
    "for i in range(data85.shape[1]):\n",
    "    if data85[0][i]<-2.06279557:\n",
    "        data85[0][i]=0\n",
    "    else:\n",
    "        data85[0][i]=1"
   ]
  },
  {
   "cell_type": "code",
   "execution_count": 5,
   "metadata": {
    "collapsed": true
   },
   "outputs": [],
   "source": [
    "def MELD_Backward_features(data, Numfolds, features, NumProf):\n",
    "    \"\"\"This function performs supervised MELD and backward elimination algorithm\n",
    "    Parameters:\n",
    "        Input: a dataframe and number of folds\n",
    "        output: select maximum AUC and corresponding features \n",
    "        for every specific number of features  \n",
    "    \"\"\"\n",
    "    #divide data into kf cross validation folds\n",
    "    kf=KFold(data.shape[1],Numfolds,shuffle=False,random_state=111)\n",
    "    \n",
    "    def profile_class(data,phi):\n",
    "        \"\"\"This function calculates the GoM scores for each individual\n",
    "        Parameters:\n",
    "        Input: data and phi calculate from MELD\n",
    "           Output: GoM score\n",
    "        \"\"\"\n",
    "        score=np.zeros([data.shape[1],NumProf])\n",
    "        profile=np.zeros([int(data.shape[0]),int(data.shape[1])])\n",
    "        for j in range(data.shape[1]):\n",
    "            for i in range(data.shape[0]):\n",
    "                yij=int(data[i,j])\n",
    "                #calculate M_ij\n",
    "                profile[i,j]=np.argmax(phi[i][:,yij])\n",
    "                if profile[i,j]==0:\n",
    "                    score[j,0]=score[j,0]+1\n",
    "                else:\n",
    "                    score[j,1]=score[j,1]+1\n",
    "            score[j,:]=(score[j,:]+0.1)/(phi.shape[0]+0.3)\n",
    "        return score\n",
    "    \n",
    "    #create a list of features\n",
    "    vec_list=[]\n",
    "    for j in range(len(features)-1):\n",
    "        integers=features[:]\n",
    "        del integers[j+1]\n",
    "        vec_list.append(integers)\n",
    "    \n",
    "    auc_list_outer=[]\n",
    "    #whole_gom_list=[]\n",
    "    for j in range(len(vec_list)):\n",
    "        auc_list=[]\n",
    "        #gom_list=[]\n",
    "        vec=vec_list[j]\n",
    "        for i in range(Numfolds):\n",
    "            train=data[:,list(kf)[i][0]]\n",
    "            test=data[:,list(kf)[i][1]]\n",
    "            import MELD_85 as MELD\n",
    "            k=NumProf\n",
    "            S=100\n",
    "            Y = train\n",
    "            (p,n) = Y.shape\n",
    "            Yt = np.array([0]*p)\n",
    "            Yt[0]=0\n",
    "            # create an object of MELD class\n",
    "            myMELD = MELD.MELD(Y,Yt,k,vec)\n",
    "            # calculate second moment matrices\n",
    "            myMELD.calM2()\n",
    "            myMELD.calM2_bar()\n",
    "            # ------------- first stage\n",
    "            # initialize weight matrices to identity\n",
    "            myMELD.initializeWeight_M2()\n",
    "            # perform first stage estimation\n",
    "            Result1 = myMELD.estimatePhiGrad_M2(S)\n",
    "            # extract phi from the result\n",
    "            phi1=Result1['PHI'][Result1['iter']]\n",
    "            # extract selected features in the test fold\n",
    "            test=test[vec]\n",
    "            # calculate GoM score\n",
    "            gscore=profile_class(test[1:],phi1[1:])\n",
    "            # calculate risk\n",
    "            risk=gscore[:,None]*np.transpose(phi1[0])\n",
    "            risk=np.sum(risk[:,1,:],axis=1)\n",
    "            #gom_list.append(gscore[:,1])\n",
    "            # replace 0 with label \"-1\"\n",
    "            np.place(test[0],test[0]==0,[-1])\n",
    "            # calculate AUC\n",
    "            auc = roc_auc_score(test[0],risk)\n",
    "            auc_list.append(auc)\n",
    "        #calculate the mean AUC across kf folds\n",
    "        auc_new=np.mean(auc_list)\n",
    "        auc_list_outer.append(auc_new)\n",
    "        #whole_gom_list.append(list(np.concatenate(gom_list)))\n",
    "        \n",
    "    auc_all=[]\n",
    "    vec_all=[]\n",
    "    #gom_all=[]\n",
    "    while len(vec_list)>2:\n",
    "        vec_list_2=vec_list[np.argmax(auc_list_outer).astype(int)] \n",
    "        #gom_list_2=whole_gom_list[np.argmax(auc_list_outer).astype(int)]\n",
    "        vec_all.append(vec_list_2)\n",
    "        #gom_all.append(gom_list_2)\n",
    "        vec_list=[]\n",
    "        #whole_gom_list=[]\n",
    "        #eliminate one feature at a time\n",
    "        for k in range(len(vec_list_2)-1):\n",
    "            integers=vec_list_2[:]\n",
    "            del integers[k+1]\n",
    "            vec_list.append(integers)\n",
    "\n",
    "        auc_list_outer=[] \n",
    "       \n",
    "        for j in range(len(vec_list)):\n",
    "            auc_list=[]\n",
    "            #gom_list=[]\n",
    "            vec=vec_list[j]\n",
    "\n",
    "            for i in range(10):\n",
    "            \n",
    "                train=data[:,list(kf)[i][0]]\n",
    "    \n",
    "                test=data[:,list(kf)[i][1]]\n",
    "        \n",
    "                import MELD_85 as MELD\n",
    "                k=NumProf\n",
    "                S=100\n",
    "\n",
    "                Y = train\n",
    "                (p,n) = Y.shape\n",
    "\n",
    "                Yt = np.array([0]*p)\n",
    "                Yt[0]=0\n",
    "                # create an object of MELD class\n",
    "                myMELD = MELD.MELD(Y,Yt,k,vec)\n",
    "\n",
    "                # calculate second moment matrices\n",
    "                myMELD.calM2()\n",
    "                myMELD.calM2_bar()\n",
    "\n",
    "                # ------------- first stage\n",
    "                # initialize weight matrices to identity\n",
    "                myMELD.initializeWeight_M2()\n",
    "\n",
    "                # perform first stage estimation\n",
    "                Result1 = myMELD.estimatePhiGrad_M2(S)\n",
    "                # extract phi from the result\n",
    "                phi1=Result1['PHI'][Result1['iter']]\n",
    "                # extract selected features from test fold\n",
    "                test=test[vec]\n",
    "                # calculate GoM score\n",
    "                gscore=profile_class(test[1:],phi1[1:])\n",
    "                # calculate risk\n",
    "                risk=gscore[:,None]*np.transpose(phi1[0])\n",
    "                risk=np.sum(risk[:,1,:],axis=1)\n",
    "                #gom_list.append(gscore[:,1])\n",
    "                # replace 0 with label \"-1\"\n",
    "                np.place(test[0],test[0]==0,[-1])\n",
    "                # calculate AUC\n",
    "                auc = roc_auc_score(test[0],risk)\n",
    "                auc_list.append(auc)\n",
    "            # calculate average AUC across kf folds\n",
    "            auc_new=np.mean(auc_list)     \n",
    "            auc_list_outer.append(auc_new)\n",
    "            #whole_gom_list.append(list(np.concatenate(gom_list)))\n",
    "              \n",
    "        \n",
    "        # selected the maximum AUC from a list of AUC's\n",
    "        auc_new_new=max(auc_list_outer)\n",
    "    \n",
    "        auc_all.append(auc_new_new)\n",
    "        \n",
    "        auc=np.max(auc_all)\n",
    "        \n",
    "        feature_selected=vec_all[np.argmax(auc_all)]\n",
    "        \n",
    "        #gom=gom_all[np.argmax(auc_all)]\n",
    "    \n",
    "    return auc, feature_selected\n",
    "\n",
    "\n"
   ]
  },
  {
   "cell_type": "code",
   "execution_count": 29,
   "metadata": {},
   "outputs": [
    {
     "name": "stderr",
     "output_type": "stream",
     "text": [
      "/Users/wsswemily/Desktop/SMELD/MELD_85.py:75: VisibleDeprecationWarning: using a non-integer number instead of an integer will result in an error in the future\n",
      "  Y_j = np.zeros((n,self.d[j]))\n",
      "/Users/wsswemily/Desktop/SMELD/MELD_85.py:77: VisibleDeprecationWarning: using a non-integer number instead of an integer will result in an error in the future\n",
      "  Y_j[i,Y[j,i]] = 1\n",
      "/Users/wsswemily/Desktop/SMELD/MELD_85.py:79: VisibleDeprecationWarning: using a non-integer number instead of an integer will result in an error in the future\n",
      "  self.Phi[j] = np.zeros((k,self.d[j]))\n",
      "/Users/wsswemily/Desktop/SMELD/MELD_85.py:80: VisibleDeprecationWarning: using a non-integer number instead of an integer will result in an error in the future\n",
      "  self.X[j] = np.zeros((k,self.d[j]))\n",
      "/Users/wsswemily/Desktop/SMELD/MELD_85.py:87: VisibleDeprecationWarning: using a non-integer number instead of an integer will result in an error in the future\n",
      "  self.Phi[j][h,:] = np.random.dirichlet([100.0]*self.d[j])\n",
      "/Users/wsswemily/Desktop/SMELD/MELD_85.py:100: VisibleDeprecationWarning: using a non-integer number instead of an integer will result in an error in the future\n",
      "  M1_j = np.zeros(self.d[j])\n",
      "/Applications/anaconda/lib/python3.5/site-packages/numpy/core/numeric.py:190: VisibleDeprecationWarning: using a non-integer number instead of an integer will result in an error in the future\n",
      "  a = empty(shape, dtype, order)\n",
      "/Users/wsswemily/Desktop/SMELD/MELD_85.py:341: VisibleDeprecationWarning: using a non-integer number instead of an integer will result in an error in the future\n",
      "  a2_jh = np.zeros(d[j])\n",
      "/Users/wsswemily/Desktop/SMELD/MELD_85.py:342: VisibleDeprecationWarning: using a non-integer number instead of an integer will result in an error in the future\n",
      "  b2_jh = np.zeros(d[j])\n",
      "/Users/wsswemily/Desktop/SMELD/MELD_85.py:385: VisibleDeprecationWarning: using a non-integer number instead of an integer will result in an error in the future\n",
      "  Phi_j = np.zeros((k,self.d[j]))\n"
     ]
    }
   ],
   "source": [
    "out_3=MELD_Backward_features(data85, 10, list(range(data85.shape[0])), 3)"
   ]
  },
  {
   "cell_type": "code",
   "execution_count": 7,
   "metadata": {},
   "outputs": [
    {
     "name": "stderr",
     "output_type": "stream",
     "text": [
      "/Users/wsswemily/Desktop/SMELD/MELD_85.py:75: VisibleDeprecationWarning: using a non-integer number instead of an integer will result in an error in the future\n",
      "  Y_j = np.zeros((n,self.d[j]))\n",
      "/Users/wsswemily/Desktop/SMELD/MELD_85.py:77: VisibleDeprecationWarning: using a non-integer number instead of an integer will result in an error in the future\n",
      "  Y_j[i,Y[j,i]] = 1\n",
      "/Users/wsswemily/Desktop/SMELD/MELD_85.py:79: VisibleDeprecationWarning: using a non-integer number instead of an integer will result in an error in the future\n",
      "  self.Phi[j] = np.zeros((k,self.d[j]))\n",
      "/Users/wsswemily/Desktop/SMELD/MELD_85.py:80: VisibleDeprecationWarning: using a non-integer number instead of an integer will result in an error in the future\n",
      "  self.X[j] = np.zeros((k,self.d[j]))\n",
      "/Users/wsswemily/Desktop/SMELD/MELD_85.py:87: VisibleDeprecationWarning: using a non-integer number instead of an integer will result in an error in the future\n",
      "  self.Phi[j][h,:] = np.random.dirichlet([100.0]*self.d[j])\n",
      "/Users/wsswemily/Desktop/SMELD/MELD_85.py:100: VisibleDeprecationWarning: using a non-integer number instead of an integer will result in an error in the future\n",
      "  M1_j = np.zeros(self.d[j])\n",
      "/Applications/anaconda/lib/python3.5/site-packages/numpy/core/numeric.py:190: VisibleDeprecationWarning: using a non-integer number instead of an integer will result in an error in the future\n",
      "  a = empty(shape, dtype, order)\n",
      "/Users/wsswemily/Desktop/SMELD/MELD_85.py:341: VisibleDeprecationWarning: using a non-integer number instead of an integer will result in an error in the future\n",
      "  a2_jh = np.zeros(d[j])\n",
      "/Users/wsswemily/Desktop/SMELD/MELD_85.py:342: VisibleDeprecationWarning: using a non-integer number instead of an integer will result in an error in the future\n",
      "  b2_jh = np.zeros(d[j])\n",
      "/Users/wsswemily/Desktop/SMELD/MELD_85.py:385: VisibleDeprecationWarning: using a non-integer number instead of an integer will result in an error in the future\n",
      "  Phi_j = np.zeros((k,self.d[j]))\n"
     ]
    }
   ],
   "source": [
    "out_4=MELD_Backward_features(data85, 10, list(range(data85.shape[0])), 4)"
   ]
  },
  {
   "cell_type": "code",
   "execution_count": 11,
   "metadata": {},
   "outputs": [
    {
     "name": "stderr",
     "output_type": "stream",
     "text": [
      "/Users/wsswemily/Desktop/SMELD/MELD_85.py:75: VisibleDeprecationWarning: using a non-integer number instead of an integer will result in an error in the future\n",
      "  Y_j = np.zeros((n,self.d[j]))\n",
      "/Users/wsswemily/Desktop/SMELD/MELD_85.py:77: VisibleDeprecationWarning: using a non-integer number instead of an integer will result in an error in the future\n",
      "  Y_j[i,Y[j,i]] = 1\n",
      "/Users/wsswemily/Desktop/SMELD/MELD_85.py:79: VisibleDeprecationWarning: using a non-integer number instead of an integer will result in an error in the future\n",
      "  self.Phi[j] = np.zeros((k,self.d[j]))\n",
      "/Users/wsswemily/Desktop/SMELD/MELD_85.py:80: VisibleDeprecationWarning: using a non-integer number instead of an integer will result in an error in the future\n",
      "  self.X[j] = np.zeros((k,self.d[j]))\n",
      "/Users/wsswemily/Desktop/SMELD/MELD_85.py:87: VisibleDeprecationWarning: using a non-integer number instead of an integer will result in an error in the future\n",
      "  self.Phi[j][h,:] = np.random.dirichlet([100.0]*self.d[j])\n",
      "/Users/wsswemily/Desktop/SMELD/MELD_85.py:100: VisibleDeprecationWarning: using a non-integer number instead of an integer will result in an error in the future\n",
      "  M1_j = np.zeros(self.d[j])\n",
      "/Applications/anaconda/lib/python3.5/site-packages/numpy/core/numeric.py:190: VisibleDeprecationWarning: using a non-integer number instead of an integer will result in an error in the future\n",
      "  a = empty(shape, dtype, order)\n",
      "/Users/wsswemily/Desktop/SMELD/MELD_85.py:341: VisibleDeprecationWarning: using a non-integer number instead of an integer will result in an error in the future\n",
      "  a2_jh = np.zeros(d[j])\n",
      "/Users/wsswemily/Desktop/SMELD/MELD_85.py:342: VisibleDeprecationWarning: using a non-integer number instead of an integer will result in an error in the future\n",
      "  b2_jh = np.zeros(d[j])\n",
      "/Users/wsswemily/Desktop/SMELD/MELD_85.py:385: VisibleDeprecationWarning: using a non-integer number instead of an integer will result in an error in the future\n",
      "  Phi_j = np.zeros((k,self.d[j]))\n"
     ]
    }
   ],
   "source": [
    "out_5=MELD_Backward_features(data85, 10, list(range(data85.shape[0])), 5)"
   ]
  },
  {
   "cell_type": "code",
   "execution_count": 32,
   "metadata": {},
   "outputs": [
    {
     "data": {
      "text/plain": [
       "0.68151322873749354"
      ]
     },
     "execution_count": 32,
     "metadata": {},
     "output_type": "execute_result"
    }
   ],
   "source": [
    "out_3[0]"
   ]
  },
  {
   "cell_type": "code",
   "execution_count": 34,
   "metadata": {},
   "outputs": [
    {
     "data": {
      "text/plain": [
       "array(['rate', 'arrival', 'goods', 'rooms', 'wall', 'sealing', 'DDT',\n",
       "       'driver', 'cleared', 'rubber', 'lavoubranca', 'Dist.neighb', 'v101',\n",
       "       'v510', 'v621', 'v403'], dtype=object)"
      ]
     },
     "execution_count": 34,
     "metadata": {},
     "output_type": "execute_result"
    }
   ],
   "source": [
    "names[out_3[1]]"
   ]
  },
  {
   "cell_type": "code",
   "execution_count": 9,
   "metadata": {},
   "outputs": [
    {
     "data": {
      "text/plain": [
       "0.71200410677739112"
      ]
     },
     "execution_count": 9,
     "metadata": {},
     "output_type": "execute_result"
    }
   ],
   "source": [
    "out_4[0]"
   ]
  },
  {
   "cell_type": "code",
   "execution_count": 10,
   "metadata": {},
   "outputs": [
    {
     "data": {
      "text/plain": [
       "[0, 1, 2, 5, 8, 11, 18, 26, 27, 31, 33, 35, 36, 37, 40, 46, 47, 48]"
      ]
     },
     "execution_count": 10,
     "metadata": {},
     "output_type": "execute_result"
    }
   ],
   "source": [
    "out_4[1]"
   ]
  },
  {
   "cell_type": "code",
   "execution_count": 12,
   "metadata": {},
   "outputs": [
    {
     "data": {
      "text/plain": [
       "0.72591096562297541"
      ]
     },
     "execution_count": 12,
     "metadata": {},
     "output_type": "execute_result"
    }
   ],
   "source": [
    "out_5[0]"
   ]
  },
  {
   "cell_type": "code",
   "execution_count": 13,
   "metadata": {},
   "outputs": [
    {
     "data": {
      "text/plain": [
       "[0,\n",
       " 1,\n",
       " 3,\n",
       " 6,\n",
       " 10,\n",
       " 12,\n",
       " 14,\n",
       " 15,\n",
       " 18,\n",
       " 19,\n",
       " 21,\n",
       " 22,\n",
       " 30,\n",
       " 33,\n",
       " 35,\n",
       " 37,\n",
       " 39,\n",
       " 40,\n",
       " 42,\n",
       " 43,\n",
       " 44,\n",
       " 46,\n",
       " 48]"
      ]
     },
     "execution_count": 13,
     "metadata": {},
     "output_type": "execute_result"
    }
   ],
   "source": [
    "out_5[1]"
   ]
  },
  {
   "cell_type": "code",
   "execution_count": null,
   "metadata": {
    "collapsed": true
   },
   "outputs": [],
   "source": []
  }
 ],
 "metadata": {
  "kernelspec": {
   "display_name": "Python 3",
   "language": "python",
   "name": "python3"
  },
  "language_info": {
   "codemirror_mode": {
    "name": "ipython",
    "version": 3
   },
   "file_extension": ".py",
   "mimetype": "text/x-python",
   "name": "python",
   "nbconvert_exporter": "python",
   "pygments_lexer": "ipython3",
   "version": "3.6.1"
  }
 },
 "nbformat": 4,
 "nbformat_minor": 1
}
